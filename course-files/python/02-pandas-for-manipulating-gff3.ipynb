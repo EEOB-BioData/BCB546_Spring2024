{
 "cells": [
  {
   "cell_type": "markdown",
   "id": "9ff89b15",
   "metadata": {},
   "source": [
    "# Before you begin\n",
    "\n",
    "## Update your course repository\n",
    "\n",
    "You need to clone the course repository to Nova. You probably already have cloned this, so you can skip this step.\n",
    "\n",
    "```bash\n",
    "git clone git@github.com:EEOB-BioData/BCB546_Spring2024.git\n",
    "```\n",
    "\n",
    "You will still need to pull new changes to this repository at the beginning of class. This will enable you to access new data files and scripts needed for in-class activities.\n",
    "\n",
    "```bash\n",
    "cd BCB546_Spring2024\n",
    "git pull\n",
    "```\n",
    "\n",
    "Note that if you have modified any files in the repository, you will need to commit those changes before you can pull new changes. If you don't care about the changes, just delete and re-clone the repository.\n",
    "\n",
    "## Start Jupyter notebook on Nova on demand.\n",
    "\n",
    "You can start Jupyter notebook on Nova on demand. This will allow you to run Jupyter notebook on the server and access it from your local machine.\n",
    "\n",
    "1. Go to the [Nova OnDemand](https://nova-ondemand.its.iastate.edu/) and login\n",
    "2. Under the \"Interactive Apps\" tab, click on \"Jupyter Notebook\", request desired resources and click \"Launch\"\n",
    "3. Wait for the job to start and click on the \"Connect to Jupyter\" button\n"
   ]
  },
  {
   "cell_type": "markdown",
   "id": "31053aa9",
   "metadata": {},
   "source": [
    "# Getting Started\n",
    "\n",
    "For this short exercise, we will be using the `pandas` library in Python to manipulate a GFF3 file.\n",
    "GFF3 is a file format used for storing genomic features in a plain text format. It is a tab-delimited file that describes the features of a genome assembly. Each line in the file represents a feature, such as a gene, exon, or CDS. These features can be nested, eg: CDS, and exons are within the mRNA feature, mRNA is within the gene feature. \n",
    "The file is divided into nine columns (usually referred as attributes column), will contain feature specific information and is not standardized. The first eight columns are mandatory and are as follows:\n",
    "\n",
    "1. `seqid`: chromosome or scaffold the feature is located.  \n",
    "2. `source`: Source of the feature, eg: a database or tool that generated the feature.\n",
    "3. `type`: feature type, eg: `gene`, `mRNA`, `CDS`, `exon` etc.\n",
    "4. `start`: genomic start position of the feature.\n",
    "5. `end`: genomic end position of the feature.\n",
    "6. `score`: Feature score, can be a floating-point number, missing is represented by \"`.`\".\n",
    "7. `strand`: strand of the feature, can be + or -, missing is represented by \"`.`\".\n",
    "8. `phase`: usually for `CDS` feature, and can be `0`, `1`, or `2`. missing is represented by \"`.`\".\n",
    "9. `attributes`: a semicolon-separated list of tag-value pairs, where the tag and value are separated by `=`. The tag-value pairs are feature specific.\n",
    "\n"
   ]
  },
  {
   "cell_type": "markdown",
   "id": "d77fa4a2",
   "metadata": {},
   "source": [
    "## Importing the required libraries\n",
    "\n",
    "We will be using the `pandas` library to read and manipulate the GFF3 file. We will also use the `os` library to check if the file exists. Later for plotting, we will also use the `seaborn` library. And one specific function from `matplotlib` library to save the plots.\n"
   ]
  },
  {
   "cell_type": "code",
   "execution_count": 1,
   "id": "7d6216b8",
   "metadata": {},
   "outputs": [],
   "source": [
    "import pandas as pd\n",
    "import os\n",
    "import seaborn as sns \n",
    "import matplotlib.pyplot as plt"
   ]
  },
  {
   "cell_type": "markdown",
   "id": "af312afb",
   "metadata": {},
   "source": [
    "## Download the GFF3 files\n",
    "\n",
    "We will use maize annotation file for B73 downloaded from MaizeGDB for this tutorial. The file is loacted [here](https://download.maizegdb.org/Zm-B73-REFERENCE-NAM-5.0/) but it has been pre-downloaded to the working directory. \n",
    "\n",
    "The file name is `Zm-B73-REFERENCE-NAM-5.0_Zm00001eb.1.gff3.gz` \n",
    "\n",
    "These are unix commands and you can simply prefix `!` to run them on Jupyter notebook.\n",
    "\n",
    "### in bash (note the exclamation point in front of standard commands)\n"
   ]
  },
  {
   "cell_type": "code",
   "execution_count": 2,
   "id": "2a5c87e2",
   "metadata": {},
   "outputs": [
    {
     "name": "stdout",
     "output_type": "stream",
     "text": [
      "--2024-04-13 12:01:32--  https://download.maizegdb.org/Zm-B73-REFERENCE-NAM-5.0/Zm-B73-REFERENCE-NAM-5.0_Zm00001eb.1.gff3.gz\n",
      "Resolving download.maizegdb.org (download.maizegdb.org)... 104.26.10.112, 172.67.74.80, 104.26.11.112, ...\n",
      "Connecting to download.maizegdb.org (download.maizegdb.org)|104.26.10.112|:443... connected.\n",
      "HTTP request sent, awaiting response... 200 OK\n",
      "Length: 12251264 (12M) [application/x-gzip]\n",
      "Saving to: ‘Zm-B73-REFERENCE-NAM-5.0_Zm00001eb.1.gff3.gz’\n",
      "\n",
      "Zm-B73-REFERENCE-NA 100%[===================>]  11.68M  75.8MB/s    in 0.2s    \n",
      "\n",
      "2024-04-13 12:01:32 (75.8 MB/s) - ‘Zm-B73-REFERENCE-NAM-5.0_Zm00001eb.1.gff3.gz’ saved [12251264/12251264]\n",
      "\n"
     ]
    }
   ],
   "source": [
    "!wget https://download.maizegdb.org/Zm-B73-REFERENCE-NAM-5.0/Zm-B73-REFERENCE-NAM-5.0_Zm00001eb.1.gff3.gz\n",
    "!gunzip Zm-B73-REFERENCE-NAM-5.0_Zm00001eb.1.gff3.gz"
   ]
  },
  {
   "cell_type": "markdown",
   "id": "e4f3f350",
   "metadata": {},
   "source": [
    "**Note**: If you rerun this cell, you will likely get an error since the file already exists in the directory. Be sure to either delete or skip this cell when rerunning."
   ]
  },
  {
   "cell_type": "markdown",
   "id": "3681812f",
   "metadata": {},
   "source": [
    "## Reading the GFF3 file\n",
    "\n",
    "We will use the `pd.read_csv` function to read the GFF3 file. Since the file is tab-delimited, we will use the `sep` argument to specify the delimiter. We will also use the `comment` argument to skip the header lines in the file. \n",
    "\n"
   ]
  },
  {
   "cell_type": "code",
   "execution_count": 3,
   "id": "21bcce8c",
   "metadata": {},
   "outputs": [],
   "source": [
    "gff3_file = \"Zm-B73-REFERENCE-NAM-5.0_Zm00001eb.1.gff3\"\n",
    "columns = ['seqid', 'source', 'type', 'start', 'end', 'score', 'strand', 'phase', 'attributes']\n",
    "gff3_df = pd.read_csv(gff3_file, sep='\\t', comment='#', header=None, names=columns)"
   ]
  },
  {
   "cell_type": "markdown",
   "id": "5df67c36",
   "metadata": {},
   "source": [
    "with `os` library, you can check if the file exists before reading it."
   ]
  },
  {
   "cell_type": "code",
   "execution_count": 4,
   "id": "dcd1815d",
   "metadata": {},
   "outputs": [],
   "source": [
    "if os.path.exists(gff3_file):\n",
    "    gff3_df = pd.read_csv(gff3_file, sep='\\t', comment='#', header=None, names=columns)\n",
    "else:\n",
    "    print(f\"{gff3_file} does not exist\")"
   ]
  },
  {
   "cell_type": "markdown",
   "id": "7b7fa873",
   "metadata": {},
   "source": [
    "## 1. Explore the data\n",
    "\n",
    "Let's take a look at the first few rows of the dataframe to understand the structure of the data.\n"
   ]
  },
  {
   "cell_type": "code",
   "execution_count": 5,
   "id": "eb804303",
   "metadata": {},
   "outputs": [
    {
     "data": {
      "text/html": [
       "<div>\n",
       "<style scoped>\n",
       "    .dataframe tbody tr th:only-of-type {\n",
       "        vertical-align: middle;\n",
       "    }\n",
       "\n",
       "    .dataframe tbody tr th {\n",
       "        vertical-align: top;\n",
       "    }\n",
       "\n",
       "    .dataframe thead th {\n",
       "        text-align: right;\n",
       "    }\n",
       "</style>\n",
       "<table border=\"1\" class=\"dataframe\">\n",
       "  <thead>\n",
       "    <tr style=\"text-align: right;\">\n",
       "      <th></th>\n",
       "      <th>seqid</th>\n",
       "      <th>source</th>\n",
       "      <th>type</th>\n",
       "      <th>start</th>\n",
       "      <th>end</th>\n",
       "      <th>score</th>\n",
       "      <th>strand</th>\n",
       "      <th>phase</th>\n",
       "      <th>attributes</th>\n",
       "    </tr>\n",
       "  </thead>\n",
       "  <tbody>\n",
       "    <tr>\n",
       "      <th>0</th>\n",
       "      <td>chr1</td>\n",
       "      <td>assembly</td>\n",
       "      <td>chromosome</td>\n",
       "      <td>1</td>\n",
       "      <td>308452471</td>\n",
       "      <td>.</td>\n",
       "      <td>.</td>\n",
       "      <td>.</td>\n",
       "      <td>ID=1;Name=chromosome:Zm-B73-REFERENCE-NAM-5.0:...</td>\n",
       "    </tr>\n",
       "    <tr>\n",
       "      <th>1</th>\n",
       "      <td>chr1</td>\n",
       "      <td>NAM</td>\n",
       "      <td>gene</td>\n",
       "      <td>34617</td>\n",
       "      <td>40204</td>\n",
       "      <td>.</td>\n",
       "      <td>+</td>\n",
       "      <td>.</td>\n",
       "      <td>ID=Zm00001eb000010;biotype=protein_coding;logi...</td>\n",
       "    </tr>\n",
       "    <tr>\n",
       "      <th>2</th>\n",
       "      <td>chr1</td>\n",
       "      <td>NAM</td>\n",
       "      <td>mRNA</td>\n",
       "      <td>34617</td>\n",
       "      <td>40204</td>\n",
       "      <td>.</td>\n",
       "      <td>+</td>\n",
       "      <td>.</td>\n",
       "      <td>ID=Zm00001eb000010_T001;Parent=Zm00001eb000010...</td>\n",
       "    </tr>\n",
       "    <tr>\n",
       "      <th>3</th>\n",
       "      <td>chr1</td>\n",
       "      <td>NAM</td>\n",
       "      <td>five_prime_UTR</td>\n",
       "      <td>34617</td>\n",
       "      <td>34721</td>\n",
       "      <td>.</td>\n",
       "      <td>+</td>\n",
       "      <td>.</td>\n",
       "      <td>Parent=Zm00001eb000010_T001</td>\n",
       "    </tr>\n",
       "    <tr>\n",
       "      <th>4</th>\n",
       "      <td>chr1</td>\n",
       "      <td>NAM</td>\n",
       "      <td>exon</td>\n",
       "      <td>34617</td>\n",
       "      <td>35318</td>\n",
       "      <td>.</td>\n",
       "      <td>+</td>\n",
       "      <td>.</td>\n",
       "      <td>Parent=Zm00001eb000010_T001;Name=Zm00001eb0000...</td>\n",
       "    </tr>\n",
       "  </tbody>\n",
       "</table>\n",
       "</div>"
      ],
      "text/plain": [
       "  seqid    source            type  start        end score strand phase  \\\n",
       "0  chr1  assembly      chromosome      1  308452471     .      .     .   \n",
       "1  chr1       NAM            gene  34617      40204     .      +     .   \n",
       "2  chr1       NAM            mRNA  34617      40204     .      +     .   \n",
       "3  chr1       NAM  five_prime_UTR  34617      34721     .      +     .   \n",
       "4  chr1       NAM            exon  34617      35318     .      +     .   \n",
       "\n",
       "                                          attributes  \n",
       "0  ID=1;Name=chromosome:Zm-B73-REFERENCE-NAM-5.0:...  \n",
       "1  ID=Zm00001eb000010;biotype=protein_coding;logi...  \n",
       "2  ID=Zm00001eb000010_T001;Parent=Zm00001eb000010...  \n",
       "3                        Parent=Zm00001eb000010_T001  \n",
       "4  Parent=Zm00001eb000010_T001;Name=Zm00001eb0000...  "
      ]
     },
     "execution_count": 5,
     "metadata": {},
     "output_type": "execute_result"
    }
   ],
   "source": [
    "gff3_df.head()"
   ]
  },
  {
   "cell_type": "markdown",
   "id": "54ec1392",
   "metadata": {},
   "source": [
    "and the last few rows"
   ]
  },
  {
   "cell_type": "code",
   "execution_count": 6,
   "id": "73e10c29",
   "metadata": {},
   "outputs": [
    {
     "data": {
      "text/html": [
       "<div>\n",
       "<style scoped>\n",
       "    .dataframe tbody tr th:only-of-type {\n",
       "        vertical-align: middle;\n",
       "    }\n",
       "\n",
       "    .dataframe tbody tr th {\n",
       "        vertical-align: top;\n",
       "    }\n",
       "\n",
       "    .dataframe thead th {\n",
       "        text-align: right;\n",
       "    }\n",
       "</style>\n",
       "<table border=\"1\" class=\"dataframe\">\n",
       "  <thead>\n",
       "    <tr style=\"text-align: right;\">\n",
       "      <th></th>\n",
       "      <th>seqid</th>\n",
       "      <th>source</th>\n",
       "      <th>type</th>\n",
       "      <th>start</th>\n",
       "      <th>end</th>\n",
       "      <th>score</th>\n",
       "      <th>strand</th>\n",
       "      <th>phase</th>\n",
       "      <th>attributes</th>\n",
       "    </tr>\n",
       "  </thead>\n",
       "  <tbody>\n",
       "    <tr>\n",
       "      <th>1143798</th>\n",
       "      <td>scaf_695</td>\n",
       "      <td>NAM</td>\n",
       "      <td>mRNA</td>\n",
       "      <td>2336</td>\n",
       "      <td>4226</td>\n",
       "      <td>.</td>\n",
       "      <td>-</td>\n",
       "      <td>.</td>\n",
       "      <td>ID=Zm00001eb443030_T001;Parent=Zm00001eb443030...</td>\n",
       "    </tr>\n",
       "    <tr>\n",
       "      <th>1143799</th>\n",
       "      <td>scaf_695</td>\n",
       "      <td>NAM</td>\n",
       "      <td>five_prime_UTR</td>\n",
       "      <td>4218</td>\n",
       "      <td>4226</td>\n",
       "      <td>.</td>\n",
       "      <td>-</td>\n",
       "      <td>.</td>\n",
       "      <td>Parent=Zm00001eb443030_T001</td>\n",
       "    </tr>\n",
       "    <tr>\n",
       "      <th>1143800</th>\n",
       "      <td>scaf_695</td>\n",
       "      <td>NAM</td>\n",
       "      <td>exon</td>\n",
       "      <td>2336</td>\n",
       "      <td>4226</td>\n",
       "      <td>.</td>\n",
       "      <td>-</td>\n",
       "      <td>.</td>\n",
       "      <td>Parent=Zm00001eb443030_T001;Name=Zm00001eb4430...</td>\n",
       "    </tr>\n",
       "    <tr>\n",
       "      <th>1143801</th>\n",
       "      <td>scaf_695</td>\n",
       "      <td>NAM</td>\n",
       "      <td>CDS</td>\n",
       "      <td>2898</td>\n",
       "      <td>4217</td>\n",
       "      <td>.</td>\n",
       "      <td>-</td>\n",
       "      <td>0</td>\n",
       "      <td>ID=Zm00001eb443030_P001;Parent=Zm00001eb443030...</td>\n",
       "    </tr>\n",
       "    <tr>\n",
       "      <th>1143802</th>\n",
       "      <td>scaf_695</td>\n",
       "      <td>NAM</td>\n",
       "      <td>three_prime_UTR</td>\n",
       "      <td>2336</td>\n",
       "      <td>2897</td>\n",
       "      <td>.</td>\n",
       "      <td>-</td>\n",
       "      <td>.</td>\n",
       "      <td>Parent=Zm00001eb443030_T001</td>\n",
       "    </tr>\n",
       "  </tbody>\n",
       "</table>\n",
       "</div>"
      ],
      "text/plain": [
       "            seqid source             type  start   end score strand phase  \\\n",
       "1143798  scaf_695    NAM             mRNA   2336  4226     .      -     .   \n",
       "1143799  scaf_695    NAM   five_prime_UTR   4218  4226     .      -     .   \n",
       "1143800  scaf_695    NAM             exon   2336  4226     .      -     .   \n",
       "1143801  scaf_695    NAM              CDS   2898  4217     .      -     0   \n",
       "1143802  scaf_695    NAM  three_prime_UTR   2336  2897     .      -     .   \n",
       "\n",
       "                                                attributes  \n",
       "1143798  ID=Zm00001eb443030_T001;Parent=Zm00001eb443030...  \n",
       "1143799                        Parent=Zm00001eb443030_T001  \n",
       "1143800  Parent=Zm00001eb443030_T001;Name=Zm00001eb4430...  \n",
       "1143801  ID=Zm00001eb443030_P001;Parent=Zm00001eb443030...  \n",
       "1143802                        Parent=Zm00001eb443030_T001  "
      ]
     },
     "execution_count": 6,
     "metadata": {},
     "output_type": "execute_result"
    }
   ],
   "source": [
    "gff3_df.tail()"
   ]
  },
  {
   "cell_type": "markdown",
   "id": "cd31980e",
   "metadata": {},
   "source": [
    "To examine the columns and the type of object they are assigned to, we can use the info method.\n"
   ]
  },
  {
   "cell_type": "code",
   "execution_count": 7,
   "id": "268444ad",
   "metadata": {},
   "outputs": [
    {
     "name": "stdout",
     "output_type": "stream",
     "text": [
      "<class 'pandas.core.frame.DataFrame'>\n",
      "RangeIndex: 1143803 entries, 0 to 1143802\n",
      "Data columns (total 9 columns):\n",
      " #   Column      Non-Null Count    Dtype \n",
      "---  ------      --------------    ----- \n",
      " 0   seqid       1143803 non-null  object\n",
      " 1   source      1143803 non-null  object\n",
      " 2   type        1143803 non-null  object\n",
      " 3   start       1143803 non-null  int64 \n",
      " 4   end         1143803 non-null  int64 \n",
      " 5   score       1143803 non-null  object\n",
      " 6   strand      1143803 non-null  object\n",
      " 7   phase       1143803 non-null  object\n",
      " 8   attributes  1143803 non-null  object\n",
      "dtypes: int64(2), object(7)\n",
      "memory usage: 78.5+ MB\n"
     ]
    }
   ],
   "source": [
    "gff3_df.info()"
   ]
  },
  {
   "cell_type": "markdown",
   "id": "f2ae3496",
   "metadata": {},
   "source": [
    "Let's see the unique values in the `type` column. These are the features in the GFF3 file.\n"
   ]
  },
  {
   "cell_type": "code",
   "execution_count": 8,
   "id": "c245818a",
   "metadata": {},
   "outputs": [
    {
     "data": {
      "text/plain": [
       "array(['chromosome', 'gene', 'mRNA', 'five_prime_UTR', 'exon', 'CDS',\n",
       "       'three_prime_UTR', 'scaffold'], dtype=object)"
      ]
     },
     "execution_count": 8,
     "metadata": {},
     "output_type": "execute_result"
    }
   ],
   "source": [
    "gff3_df['type'].unique()"
   ]
  },
  {
   "cell_type": "markdown",
   "id": "fed738c1",
   "metadata": {},
   "source": [
    "We can also see what the unique values in the `seqid` column are.\n"
   ]
  },
  {
   "cell_type": "code",
   "execution_count": 9,
   "id": "01db2e71",
   "metadata": {},
   "outputs": [
    {
     "data": {
      "text/plain": [
       "array(['chr1', 'chr2', 'chr3', 'chr4', 'chr5', 'chr6', 'chr7', 'chr8',\n",
       "       'chr9', 'chr10', 'scaf_22', 'scaf_23', 'scaf_30', 'scaf_32',\n",
       "       'scaf_33', 'scaf_34', 'scaf_36', 'scaf_37', 'scaf_45', 'scaf_48',\n",
       "       'scaf_49', 'scaf_54', 'scaf_56', 'scaf_61', 'scaf_66', 'scaf_67',\n",
       "       'scaf_72', 'scaf_77', 'scaf_82', 'scaf_87', 'scaf_88', 'scaf_94',\n",
       "       'scaf_100', 'scaf_103', 'scaf_106', 'scaf_107', 'scaf_110',\n",
       "       'scaf_113', 'scaf_114', 'scaf_126', 'scaf_136', 'scaf_138',\n",
       "       'scaf_139', 'scaf_143', 'scaf_146', 'scaf_153', 'scaf_155',\n",
       "       'scaf_158', 'scaf_160', 'scaf_161', 'scaf_173', 'scaf_174',\n",
       "       'scaf_178', 'scaf_179', 'scaf_181', 'scaf_183', 'scaf_186',\n",
       "       'scaf_187', 'scaf_190', 'scaf_191', 'scaf_194', 'scaf_196',\n",
       "       'scaf_198', 'scaf_200', 'scaf_203', 'scaf_209', 'scaf_210',\n",
       "       'scaf_212', 'scaf_214', 'scaf_219', 'scaf_221', 'scaf_222',\n",
       "       'scaf_223', 'scaf_224', 'scaf_228', 'scaf_229', 'scaf_231',\n",
       "       'scaf_232', 'scaf_235', 'scaf_237', 'scaf_241', 'scaf_243',\n",
       "       'scaf_246', 'scaf_250', 'scaf_253', 'scaf_258', 'scaf_259',\n",
       "       'scaf_264', 'scaf_273', 'scaf_274', 'scaf_275', 'scaf_277',\n",
       "       'scaf_278', 'scaf_279', 'scaf_281', 'scaf_282', 'scaf_288',\n",
       "       'scaf_298', 'scaf_300', 'scaf_301', 'scaf_304', 'scaf_307',\n",
       "       'scaf_309', 'scaf_311', 'scaf_313', 'scaf_316', 'scaf_317',\n",
       "       'scaf_328', 'scaf_332', 'scaf_339', 'scaf_345', 'scaf_348',\n",
       "       'scaf_350', 'scaf_355', 'scaf_357', 'scaf_359', 'scaf_360',\n",
       "       'scaf_362', 'scaf_370', 'scaf_372', 'scaf_375', 'scaf_380',\n",
       "       'scaf_381', 'scaf_382', 'scaf_383', 'scaf_386', 'scaf_388',\n",
       "       'scaf_398', 'scaf_399', 'scaf_409', 'scaf_410', 'scaf_412',\n",
       "       'scaf_420', 'scaf_435', 'scaf_443', 'scaf_444', 'scaf_445',\n",
       "       'scaf_446', 'scaf_461', 'scaf_463', 'scaf_465', 'scaf_469',\n",
       "       'scaf_475', 'scaf_487', 'scaf_489', 'scaf_490', 'scaf_494',\n",
       "       'scaf_498', 'scaf_507', 'scaf_512', 'scaf_514', 'scaf_516',\n",
       "       'scaf_518', 'scaf_519', 'scaf_521', 'scaf_524', 'scaf_527',\n",
       "       'scaf_532', 'scaf_538', 'scaf_539', 'scaf_542', 'scaf_545',\n",
       "       'scaf_554', 'scaf_556', 'scaf_562', 'scaf_568', 'scaf_576',\n",
       "       'scaf_579', 'scaf_582', 'scaf_585', 'scaf_587', 'scaf_592',\n",
       "       'scaf_604', 'scaf_605', 'scaf_612', 'scaf_621', 'scaf_623',\n",
       "       'scaf_625', 'scaf_640', 'scaf_644', 'scaf_651', 'scaf_656',\n",
       "       'scaf_659', 'scaf_664', 'scaf_666', 'scaf_670', 'scaf_674',\n",
       "       'scaf_675', 'scaf_692', 'scaf_695'], dtype=object)"
      ]
     },
     "execution_count": 9,
     "metadata": {},
     "output_type": "execute_result"
    }
   ],
   "source": [
    "gff3_df['seqid'].unique()"
   ]
  },
  {
   "cell_type": "markdown",
   "id": "0873a9b5",
   "metadata": {},
   "source": [
    "It looks like the GFF3 file has annotations for chromsomes and scaffolds. \n"
   ]
  },
  {
   "cell_type": "markdown",
   "id": "c937fddf",
   "metadata": {},
   "source": [
    "## 2. Filtering the data\n",
    "\n",
    "Since we are interested in the chr features only, we can filter the dataframe to include `seqid` column that have a match to `chr`.\n"
   ]
  },
  {
   "cell_type": "code",
   "execution_count": 10,
   "id": "5d4ad414",
   "metadata": {},
   "outputs": [],
   "source": [
    "filter = gff3_df['seqid'].str.contains('chr')\n",
    "chr_gff3_df = gff3_df[filter]"
   ]
  },
  {
   "cell_type": "markdown",
   "id": "06977cd2",
   "metadata": {},
   "source": [
    "Check the output"
   ]
  },
  {
   "cell_type": "code",
   "execution_count": 11,
   "id": "7f43292f",
   "metadata": {},
   "outputs": [
    {
     "data": {
      "text/html": [
       "<div>\n",
       "<style scoped>\n",
       "    .dataframe tbody tr th:only-of-type {\n",
       "        vertical-align: middle;\n",
       "    }\n",
       "\n",
       "    .dataframe tbody tr th {\n",
       "        vertical-align: top;\n",
       "    }\n",
       "\n",
       "    .dataframe thead th {\n",
       "        text-align: right;\n",
       "    }\n",
       "</style>\n",
       "<table border=\"1\" class=\"dataframe\">\n",
       "  <thead>\n",
       "    <tr style=\"text-align: right;\">\n",
       "      <th></th>\n",
       "      <th>seqid</th>\n",
       "      <th>source</th>\n",
       "      <th>type</th>\n",
       "      <th>start</th>\n",
       "      <th>end</th>\n",
       "      <th>score</th>\n",
       "      <th>strand</th>\n",
       "      <th>phase</th>\n",
       "      <th>attributes</th>\n",
       "    </tr>\n",
       "  </thead>\n",
       "  <tbody>\n",
       "    <tr>\n",
       "      <th>0</th>\n",
       "      <td>chr1</td>\n",
       "      <td>assembly</td>\n",
       "      <td>chromosome</td>\n",
       "      <td>1</td>\n",
       "      <td>308452471</td>\n",
       "      <td>.</td>\n",
       "      <td>.</td>\n",
       "      <td>.</td>\n",
       "      <td>ID=1;Name=chromosome:Zm-B73-REFERENCE-NAM-5.0:...</td>\n",
       "    </tr>\n",
       "    <tr>\n",
       "      <th>1</th>\n",
       "      <td>chr1</td>\n",
       "      <td>NAM</td>\n",
       "      <td>gene</td>\n",
       "      <td>34617</td>\n",
       "      <td>40204</td>\n",
       "      <td>.</td>\n",
       "      <td>+</td>\n",
       "      <td>.</td>\n",
       "      <td>ID=Zm00001eb000010;biotype=protein_coding;logi...</td>\n",
       "    </tr>\n",
       "    <tr>\n",
       "      <th>2</th>\n",
       "      <td>chr1</td>\n",
       "      <td>NAM</td>\n",
       "      <td>mRNA</td>\n",
       "      <td>34617</td>\n",
       "      <td>40204</td>\n",
       "      <td>.</td>\n",
       "      <td>+</td>\n",
       "      <td>.</td>\n",
       "      <td>ID=Zm00001eb000010_T001;Parent=Zm00001eb000010...</td>\n",
       "    </tr>\n",
       "    <tr>\n",
       "      <th>3</th>\n",
       "      <td>chr1</td>\n",
       "      <td>NAM</td>\n",
       "      <td>five_prime_UTR</td>\n",
       "      <td>34617</td>\n",
       "      <td>34721</td>\n",
       "      <td>.</td>\n",
       "      <td>+</td>\n",
       "      <td>.</td>\n",
       "      <td>Parent=Zm00001eb000010_T001</td>\n",
       "    </tr>\n",
       "    <tr>\n",
       "      <th>4</th>\n",
       "      <td>chr1</td>\n",
       "      <td>NAM</td>\n",
       "      <td>exon</td>\n",
       "      <td>34617</td>\n",
       "      <td>35318</td>\n",
       "      <td>.</td>\n",
       "      <td>+</td>\n",
       "      <td>.</td>\n",
       "      <td>Parent=Zm00001eb000010_T001;Name=Zm00001eb0000...</td>\n",
       "    </tr>\n",
       "  </tbody>\n",
       "</table>\n",
       "</div>"
      ],
      "text/plain": [
       "  seqid    source            type  start        end score strand phase  \\\n",
       "0  chr1  assembly      chromosome      1  308452471     .      .     .   \n",
       "1  chr1       NAM            gene  34617      40204     .      +     .   \n",
       "2  chr1       NAM            mRNA  34617      40204     .      +     .   \n",
       "3  chr1       NAM  five_prime_UTR  34617      34721     .      +     .   \n",
       "4  chr1       NAM            exon  34617      35318     .      +     .   \n",
       "\n",
       "                                          attributes  \n",
       "0  ID=1;Name=chromosome:Zm-B73-REFERENCE-NAM-5.0:...  \n",
       "1  ID=Zm00001eb000010;biotype=protein_coding;logi...  \n",
       "2  ID=Zm00001eb000010_T001;Parent=Zm00001eb000010...  \n",
       "3                        Parent=Zm00001eb000010_T001  \n",
       "4  Parent=Zm00001eb000010_T001;Name=Zm00001eb0000...  "
      ]
     },
     "execution_count": 11,
     "metadata": {},
     "output_type": "execute_result"
    }
   ],
   "source": [
    "chr_gff3_df.head()"
   ]
  },
  {
   "cell_type": "code",
   "execution_count": 12,
   "id": "ad0204aa",
   "metadata": {},
   "outputs": [
    {
     "data": {
      "text/html": [
       "<div>\n",
       "<style scoped>\n",
       "    .dataframe tbody tr th:only-of-type {\n",
       "        vertical-align: middle;\n",
       "    }\n",
       "\n",
       "    .dataframe tbody tr th {\n",
       "        vertical-align: top;\n",
       "    }\n",
       "\n",
       "    .dataframe thead th {\n",
       "        text-align: right;\n",
       "    }\n",
       "</style>\n",
       "<table border=\"1\" class=\"dataframe\">\n",
       "  <thead>\n",
       "    <tr style=\"text-align: right;\">\n",
       "      <th></th>\n",
       "      <th>seqid</th>\n",
       "      <th>source</th>\n",
       "      <th>type</th>\n",
       "      <th>start</th>\n",
       "      <th>end</th>\n",
       "      <th>score</th>\n",
       "      <th>strand</th>\n",
       "      <th>phase</th>\n",
       "      <th>attributes</th>\n",
       "    </tr>\n",
       "  </thead>\n",
       "  <tbody>\n",
       "    <tr>\n",
       "      <th>1138113</th>\n",
       "      <td>chr10</td>\n",
       "      <td>NAM</td>\n",
       "      <td>exon</td>\n",
       "      <td>152286718</td>\n",
       "      <td>152287382</td>\n",
       "      <td>.</td>\n",
       "      <td>-</td>\n",
       "      <td>.</td>\n",
       "      <td>Parent=Zm00001eb434590_T001;Name=Zm00001eb4345...</td>\n",
       "    </tr>\n",
       "    <tr>\n",
       "      <th>1138114</th>\n",
       "      <td>chr10</td>\n",
       "      <td>NAM</td>\n",
       "      <td>CDS</td>\n",
       "      <td>152285016</td>\n",
       "      <td>152286200</td>\n",
       "      <td>.</td>\n",
       "      <td>-</td>\n",
       "      <td>0</td>\n",
       "      <td>ID=Zm00001eb434590_P001;Parent=Zm00001eb434590...</td>\n",
       "    </tr>\n",
       "    <tr>\n",
       "      <th>1138115</th>\n",
       "      <td>chr10</td>\n",
       "      <td>NAM</td>\n",
       "      <td>CDS</td>\n",
       "      <td>152286281</td>\n",
       "      <td>152286588</td>\n",
       "      <td>.</td>\n",
       "      <td>-</td>\n",
       "      <td>2</td>\n",
       "      <td>ID=Zm00001eb434590_P001;Parent=Zm00001eb434590...</td>\n",
       "    </tr>\n",
       "    <tr>\n",
       "      <th>1138116</th>\n",
       "      <td>chr10</td>\n",
       "      <td>NAM</td>\n",
       "      <td>CDS</td>\n",
       "      <td>152286718</td>\n",
       "      <td>152287096</td>\n",
       "      <td>.</td>\n",
       "      <td>-</td>\n",
       "      <td>0</td>\n",
       "      <td>ID=Zm00001eb434590_P001;Parent=Zm00001eb434590...</td>\n",
       "    </tr>\n",
       "    <tr>\n",
       "      <th>1138117</th>\n",
       "      <td>chr10</td>\n",
       "      <td>NAM</td>\n",
       "      <td>three_prime_UTR</td>\n",
       "      <td>152284763</td>\n",
       "      <td>152285015</td>\n",
       "      <td>.</td>\n",
       "      <td>-</td>\n",
       "      <td>.</td>\n",
       "      <td>Parent=Zm00001eb434590_T001</td>\n",
       "    </tr>\n",
       "  </tbody>\n",
       "</table>\n",
       "</div>"
      ],
      "text/plain": [
       "         seqid source             type      start        end score strand  \\\n",
       "1138113  chr10    NAM             exon  152286718  152287382     .      -   \n",
       "1138114  chr10    NAM              CDS  152285016  152286200     .      -   \n",
       "1138115  chr10    NAM              CDS  152286281  152286588     .      -   \n",
       "1138116  chr10    NAM              CDS  152286718  152287096     .      -   \n",
       "1138117  chr10    NAM  three_prime_UTR  152284763  152285015     .      -   \n",
       "\n",
       "        phase                                         attributes  \n",
       "1138113     .  Parent=Zm00001eb434590_T001;Name=Zm00001eb4345...  \n",
       "1138114     0  ID=Zm00001eb434590_P001;Parent=Zm00001eb434590...  \n",
       "1138115     2  ID=Zm00001eb434590_P001;Parent=Zm00001eb434590...  \n",
       "1138116     0  ID=Zm00001eb434590_P001;Parent=Zm00001eb434590...  \n",
       "1138117     .                        Parent=Zm00001eb434590_T001  "
      ]
     },
     "execution_count": 12,
     "metadata": {},
     "output_type": "execute_result"
    }
   ],
   "source": [
    "chr_gff3_df.tail()"
   ]
  },
  {
   "cell_type": "markdown",
   "id": "6a621e28",
   "metadata": {},
   "source": [
    "Does the output look as expected?\n",
    "\n",
    "Other common filters include filtering by feature type. For example, to filter only the `gene` features, we can use the following code."
   ]
  },
  {
   "cell_type": "code",
   "execution_count": 13,
   "id": "c1c0d569",
   "metadata": {},
   "outputs": [],
   "source": [
    "filter = chr_gff3_df['type'] == 'gene'\n",
    "gene_df = chr_gff3_df[filter]"
   ]
  },
  {
   "cell_type": "markdown",
   "id": "eea0260c",
   "metadata": {},
   "source": [
    "same can be done for `mRNA`, `CDS`, `exon` features as well."
   ]
  },
  {
   "cell_type": "markdown",
   "id": "e4dd51eb",
   "metadata": {},
   "source": [
    "## 3. Format conversion\n",
    "\n",
    "A common task in bioinformatics is format conversion. We frequently need convert files from one format to another. \n",
    "The genomic coordinates in GFF3 files are 1-based, but other formats, such as [BED file format](https://useast.ensembl.org/info/website/upload/bed.html), is 0-based coordinates.\n",
    "\n",
    "![zero-based-and-one-based-coordinates](https://github.com/EEOB-BioData/BCB546_Spring2024/assets/4835524/17f19f18-06e0-442a-b5b5-d4cd285c4fdc)\n",
    "\n",
    "source: [biostars.org](https://www.biostars.org/p/84686/)\n",
    "\n",
    "We will extract only `mRNA` features from the GFF3 file and convert the coordinates to 0-based and save it as a bed file.\n"
   ]
  },
  {
   "cell_type": "code",
   "execution_count": 14,
   "id": "6338a397",
   "metadata": {},
   "outputs": [
    {
     "data": {
      "text/html": [
       "<div>\n",
       "<style scoped>\n",
       "    .dataframe tbody tr th:only-of-type {\n",
       "        vertical-align: middle;\n",
       "    }\n",
       "\n",
       "    .dataframe tbody tr th {\n",
       "        vertical-align: top;\n",
       "    }\n",
       "\n",
       "    .dataframe thead th {\n",
       "        text-align: right;\n",
       "    }\n",
       "</style>\n",
       "<table border=\"1\" class=\"dataframe\">\n",
       "  <thead>\n",
       "    <tr style=\"text-align: right;\">\n",
       "      <th></th>\n",
       "      <th>seqid</th>\n",
       "      <th>source</th>\n",
       "      <th>type</th>\n",
       "      <th>start</th>\n",
       "      <th>end</th>\n",
       "      <th>score</th>\n",
       "      <th>strand</th>\n",
       "      <th>phase</th>\n",
       "      <th>attributes</th>\n",
       "    </tr>\n",
       "  </thead>\n",
       "  <tbody>\n",
       "    <tr>\n",
       "      <th>2</th>\n",
       "      <td>chr1</td>\n",
       "      <td>NAM</td>\n",
       "      <td>mRNA</td>\n",
       "      <td>34617</td>\n",
       "      <td>40204</td>\n",
       "      <td>.</td>\n",
       "      <td>+</td>\n",
       "      <td>.</td>\n",
       "      <td>ID=Zm00001eb000010_T001;Parent=Zm00001eb000010...</td>\n",
       "    </tr>\n",
       "    <tr>\n",
       "      <th>24</th>\n",
       "      <td>chr1</td>\n",
       "      <td>NAM</td>\n",
       "      <td>mRNA</td>\n",
       "      <td>41263</td>\n",
       "      <td>46050</td>\n",
       "      <td>.</td>\n",
       "      <td>-</td>\n",
       "      <td>.</td>\n",
       "      <td>ID=Zm00001eb000020_T002;Parent=Zm00001eb000020...</td>\n",
       "    </tr>\n",
       "    <tr>\n",
       "      <th>43</th>\n",
       "      <td>chr1</td>\n",
       "      <td>NAM</td>\n",
       "      <td>mRNA</td>\n",
       "      <td>41214</td>\n",
       "      <td>43902</td>\n",
       "      <td>.</td>\n",
       "      <td>-</td>\n",
       "      <td>.</td>\n",
       "      <td>ID=Zm00001eb000020_T004;Parent=Zm00001eb000020...</td>\n",
       "    </tr>\n",
       "    <tr>\n",
       "      <th>62</th>\n",
       "      <td>chr1</td>\n",
       "      <td>NAM</td>\n",
       "      <td>mRNA</td>\n",
       "      <td>41314</td>\n",
       "      <td>46039</td>\n",
       "      <td>.</td>\n",
       "      <td>-</td>\n",
       "      <td>.</td>\n",
       "      <td>ID=Zm00001eb000020_T003;Parent=Zm00001eb000020...</td>\n",
       "    </tr>\n",
       "    <tr>\n",
       "      <th>85</th>\n",
       "      <td>chr1</td>\n",
       "      <td>NAM</td>\n",
       "      <td>mRNA</td>\n",
       "      <td>41214</td>\n",
       "      <td>46762</td>\n",
       "      <td>.</td>\n",
       "      <td>-</td>\n",
       "      <td>.</td>\n",
       "      <td>ID=Zm00001eb000020_T001;Parent=Zm00001eb000020...</td>\n",
       "    </tr>\n",
       "    <tr>\n",
       "      <th>...</th>\n",
       "      <td>...</td>\n",
       "      <td>...</td>\n",
       "      <td>...</td>\n",
       "      <td>...</td>\n",
       "      <td>...</td>\n",
       "      <td>...</td>\n",
       "      <td>...</td>\n",
       "      <td>...</td>\n",
       "      <td>...</td>\n",
       "    </tr>\n",
       "    <tr>\n",
       "      <th>1138073</th>\n",
       "      <td>chr10</td>\n",
       "      <td>NAM</td>\n",
       "      <td>mRNA</td>\n",
       "      <td>152010430</td>\n",
       "      <td>152012584</td>\n",
       "      <td>.</td>\n",
       "      <td>-</td>\n",
       "      <td>.</td>\n",
       "      <td>ID=Zm00001eb434550_T001;Parent=Zm00001eb434550...</td>\n",
       "    </tr>\n",
       "    <tr>\n",
       "      <th>1138079</th>\n",
       "      <td>chr10</td>\n",
       "      <td>NAM</td>\n",
       "      <td>mRNA</td>\n",
       "      <td>152012893</td>\n",
       "      <td>152015823</td>\n",
       "      <td>.</td>\n",
       "      <td>-</td>\n",
       "      <td>.</td>\n",
       "      <td>ID=Zm00001eb434560_T001;Parent=Zm00001eb434560...</td>\n",
       "    </tr>\n",
       "    <tr>\n",
       "      <th>1138095</th>\n",
       "      <td>chr10</td>\n",
       "      <td>NAM</td>\n",
       "      <td>mRNA</td>\n",
       "      <td>152200925</td>\n",
       "      <td>152201511</td>\n",
       "      <td>.</td>\n",
       "      <td>+</td>\n",
       "      <td>.</td>\n",
       "      <td>ID=Zm00001eb434570_T001;Parent=Zm00001eb434570...</td>\n",
       "    </tr>\n",
       "    <tr>\n",
       "      <th>1138101</th>\n",
       "      <td>chr10</td>\n",
       "      <td>NAM</td>\n",
       "      <td>mRNA</td>\n",
       "      <td>152280251</td>\n",
       "      <td>152282615</td>\n",
       "      <td>.</td>\n",
       "      <td>+</td>\n",
       "      <td>.</td>\n",
       "      <td>ID=Zm00001eb434580_T001;Parent=Zm00001eb434580...</td>\n",
       "    </tr>\n",
       "    <tr>\n",
       "      <th>1138109</th>\n",
       "      <td>chr10</td>\n",
       "      <td>NAM</td>\n",
       "      <td>mRNA</td>\n",
       "      <td>152284763</td>\n",
       "      <td>152287382</td>\n",
       "      <td>.</td>\n",
       "      <td>-</td>\n",
       "      <td>.</td>\n",
       "      <td>ID=Zm00001eb434590_T001;Parent=Zm00001eb434590...</td>\n",
       "    </tr>\n",
       "  </tbody>\n",
       "</table>\n",
       "<p>71791 rows × 9 columns</p>\n",
       "</div>"
      ],
      "text/plain": [
       "         seqid source  type      start        end score strand phase  \\\n",
       "2         chr1    NAM  mRNA      34617      40204     .      +     .   \n",
       "24        chr1    NAM  mRNA      41263      46050     .      -     .   \n",
       "43        chr1    NAM  mRNA      41214      43902     .      -     .   \n",
       "62        chr1    NAM  mRNA      41314      46039     .      -     .   \n",
       "85        chr1    NAM  mRNA      41214      46762     .      -     .   \n",
       "...        ...    ...   ...        ...        ...   ...    ...   ...   \n",
       "1138073  chr10    NAM  mRNA  152010430  152012584     .      -     .   \n",
       "1138079  chr10    NAM  mRNA  152012893  152015823     .      -     .   \n",
       "1138095  chr10    NAM  mRNA  152200925  152201511     .      +     .   \n",
       "1138101  chr10    NAM  mRNA  152280251  152282615     .      +     .   \n",
       "1138109  chr10    NAM  mRNA  152284763  152287382     .      -     .   \n",
       "\n",
       "                                                attributes  \n",
       "2        ID=Zm00001eb000010_T001;Parent=Zm00001eb000010...  \n",
       "24       ID=Zm00001eb000020_T002;Parent=Zm00001eb000020...  \n",
       "43       ID=Zm00001eb000020_T004;Parent=Zm00001eb000020...  \n",
       "62       ID=Zm00001eb000020_T003;Parent=Zm00001eb000020...  \n",
       "85       ID=Zm00001eb000020_T001;Parent=Zm00001eb000020...  \n",
       "...                                                    ...  \n",
       "1138073  ID=Zm00001eb434550_T001;Parent=Zm00001eb434550...  \n",
       "1138079  ID=Zm00001eb434560_T001;Parent=Zm00001eb434560...  \n",
       "1138095  ID=Zm00001eb434570_T001;Parent=Zm00001eb434570...  \n",
       "1138101  ID=Zm00001eb434580_T001;Parent=Zm00001eb434580...  \n",
       "1138109  ID=Zm00001eb434590_T001;Parent=Zm00001eb434590...  \n",
       "\n",
       "[71791 rows x 9 columns]"
      ]
     },
     "execution_count": 14,
     "metadata": {},
     "output_type": "execute_result"
    }
   ],
   "source": [
    "filter = chr_gff3_df['type'] == 'mRNA'\n",
    "mRNA_df = chr_gff3_df[filter]\n",
    "mRNA_df"
   ]
  },
  {
   "cell_type": "markdown",
   "id": "e997f2b9",
   "metadata": {},
   "source": [
    "select the columns we need\n"
   ]
  },
  {
   "cell_type": "code",
   "execution_count": 15,
   "id": "2937e01c",
   "metadata": {},
   "outputs": [
    {
     "data": {
      "text/html": [
       "<div>\n",
       "<style scoped>\n",
       "    .dataframe tbody tr th:only-of-type {\n",
       "        vertical-align: middle;\n",
       "    }\n",
       "\n",
       "    .dataframe tbody tr th {\n",
       "        vertical-align: top;\n",
       "    }\n",
       "\n",
       "    .dataframe thead th {\n",
       "        text-align: right;\n",
       "    }\n",
       "</style>\n",
       "<table border=\"1\" class=\"dataframe\">\n",
       "  <thead>\n",
       "    <tr style=\"text-align: right;\">\n",
       "      <th></th>\n",
       "      <th>seqid</th>\n",
       "      <th>start</th>\n",
       "      <th>end</th>\n",
       "      <th>attributes</th>\n",
       "      <th>score</th>\n",
       "      <th>strand</th>\n",
       "    </tr>\n",
       "  </thead>\n",
       "  <tbody>\n",
       "    <tr>\n",
       "      <th>2</th>\n",
       "      <td>chr1</td>\n",
       "      <td>34617</td>\n",
       "      <td>40204</td>\n",
       "      <td>ID=Zm00001eb000010_T001;Parent=Zm00001eb000010...</td>\n",
       "      <td>.</td>\n",
       "      <td>+</td>\n",
       "    </tr>\n",
       "    <tr>\n",
       "      <th>24</th>\n",
       "      <td>chr1</td>\n",
       "      <td>41263</td>\n",
       "      <td>46050</td>\n",
       "      <td>ID=Zm00001eb000020_T002;Parent=Zm00001eb000020...</td>\n",
       "      <td>.</td>\n",
       "      <td>-</td>\n",
       "    </tr>\n",
       "    <tr>\n",
       "      <th>43</th>\n",
       "      <td>chr1</td>\n",
       "      <td>41214</td>\n",
       "      <td>43902</td>\n",
       "      <td>ID=Zm00001eb000020_T004;Parent=Zm00001eb000020...</td>\n",
       "      <td>.</td>\n",
       "      <td>-</td>\n",
       "    </tr>\n",
       "    <tr>\n",
       "      <th>62</th>\n",
       "      <td>chr1</td>\n",
       "      <td>41314</td>\n",
       "      <td>46039</td>\n",
       "      <td>ID=Zm00001eb000020_T003;Parent=Zm00001eb000020...</td>\n",
       "      <td>.</td>\n",
       "      <td>-</td>\n",
       "    </tr>\n",
       "    <tr>\n",
       "      <th>85</th>\n",
       "      <td>chr1</td>\n",
       "      <td>41214</td>\n",
       "      <td>46762</td>\n",
       "      <td>ID=Zm00001eb000020_T001;Parent=Zm00001eb000020...</td>\n",
       "      <td>.</td>\n",
       "      <td>-</td>\n",
       "    </tr>\n",
       "    <tr>\n",
       "      <th>...</th>\n",
       "      <td>...</td>\n",
       "      <td>...</td>\n",
       "      <td>...</td>\n",
       "      <td>...</td>\n",
       "      <td>...</td>\n",
       "      <td>...</td>\n",
       "    </tr>\n",
       "    <tr>\n",
       "      <th>1138073</th>\n",
       "      <td>chr10</td>\n",
       "      <td>152010430</td>\n",
       "      <td>152012584</td>\n",
       "      <td>ID=Zm00001eb434550_T001;Parent=Zm00001eb434550...</td>\n",
       "      <td>.</td>\n",
       "      <td>-</td>\n",
       "    </tr>\n",
       "    <tr>\n",
       "      <th>1138079</th>\n",
       "      <td>chr10</td>\n",
       "      <td>152012893</td>\n",
       "      <td>152015823</td>\n",
       "      <td>ID=Zm00001eb434560_T001;Parent=Zm00001eb434560...</td>\n",
       "      <td>.</td>\n",
       "      <td>-</td>\n",
       "    </tr>\n",
       "    <tr>\n",
       "      <th>1138095</th>\n",
       "      <td>chr10</td>\n",
       "      <td>152200925</td>\n",
       "      <td>152201511</td>\n",
       "      <td>ID=Zm00001eb434570_T001;Parent=Zm00001eb434570...</td>\n",
       "      <td>.</td>\n",
       "      <td>+</td>\n",
       "    </tr>\n",
       "    <tr>\n",
       "      <th>1138101</th>\n",
       "      <td>chr10</td>\n",
       "      <td>152280251</td>\n",
       "      <td>152282615</td>\n",
       "      <td>ID=Zm00001eb434580_T001;Parent=Zm00001eb434580...</td>\n",
       "      <td>.</td>\n",
       "      <td>+</td>\n",
       "    </tr>\n",
       "    <tr>\n",
       "      <th>1138109</th>\n",
       "      <td>chr10</td>\n",
       "      <td>152284763</td>\n",
       "      <td>152287382</td>\n",
       "      <td>ID=Zm00001eb434590_T001;Parent=Zm00001eb434590...</td>\n",
       "      <td>.</td>\n",
       "      <td>-</td>\n",
       "    </tr>\n",
       "  </tbody>\n",
       "</table>\n",
       "<p>71791 rows × 6 columns</p>\n",
       "</div>"
      ],
      "text/plain": [
       "         seqid      start        end  \\\n",
       "2         chr1      34617      40204   \n",
       "24        chr1      41263      46050   \n",
       "43        chr1      41214      43902   \n",
       "62        chr1      41314      46039   \n",
       "85        chr1      41214      46762   \n",
       "...        ...        ...        ...   \n",
       "1138073  chr10  152010430  152012584   \n",
       "1138079  chr10  152012893  152015823   \n",
       "1138095  chr10  152200925  152201511   \n",
       "1138101  chr10  152280251  152282615   \n",
       "1138109  chr10  152284763  152287382   \n",
       "\n",
       "                                                attributes score strand  \n",
       "2        ID=Zm00001eb000010_T001;Parent=Zm00001eb000010...     .      +  \n",
       "24       ID=Zm00001eb000020_T002;Parent=Zm00001eb000020...     .      -  \n",
       "43       ID=Zm00001eb000020_T004;Parent=Zm00001eb000020...     .      -  \n",
       "62       ID=Zm00001eb000020_T003;Parent=Zm00001eb000020...     .      -  \n",
       "85       ID=Zm00001eb000020_T001;Parent=Zm00001eb000020...     .      -  \n",
       "...                                                    ...   ...    ...  \n",
       "1138073  ID=Zm00001eb434550_T001;Parent=Zm00001eb434550...     .      -  \n",
       "1138079  ID=Zm00001eb434560_T001;Parent=Zm00001eb434560...     .      -  \n",
       "1138095  ID=Zm00001eb434570_T001;Parent=Zm00001eb434570...     .      +  \n",
       "1138101  ID=Zm00001eb434580_T001;Parent=Zm00001eb434580...     .      +  \n",
       "1138109  ID=Zm00001eb434590_T001;Parent=Zm00001eb434590...     .      -  \n",
       "\n",
       "[71791 rows x 6 columns]"
      ]
     },
     "execution_count": 15,
     "metadata": {},
     "output_type": "execute_result"
    }
   ],
   "source": [
    "mRNA_df = mRNA_df[['seqid', 'start', 'end', 'attributes', 'score', 'strand']]\n",
    "mRNA_df"
   ]
  },
  {
   "cell_type": "markdown",
   "id": "3bb1fe6b",
   "metadata": {},
   "source": [
    "For the attribute column, we only need the first attribute which is the ID of the mRNA feature. We will extract this information and add it as a new column in the dataframe.\n"
   ]
  },
  {
   "cell_type": "code",
   "execution_count": 16,
   "id": "44782991",
   "metadata": {},
   "outputs": [
    {
     "name": "stderr",
     "output_type": "stream",
     "text": [
      "/mnt/job-temp/arnstrm/5146429/ipykernel_842960/3649785668.py:1: SettingWithCopyWarning: \n",
      "A value is trying to be set on a copy of a slice from a DataFrame.\n",
      "Try using .loc[row_indexer,col_indexer] = value instead\n",
      "\n",
      "See the caveats in the documentation: https://pandas.pydata.org/pandas-docs/stable/user_guide/indexing.html#returning-a-view-versus-a-copy\n",
      "  mRNA_df['mRNA_id'] = mRNA_df['attributes'].str.split(';', expand=True)[0].str.split('=', expand=True)[1]\n"
     ]
    },
    {
     "data": {
      "text/html": [
       "<div>\n",
       "<style scoped>\n",
       "    .dataframe tbody tr th:only-of-type {\n",
       "        vertical-align: middle;\n",
       "    }\n",
       "\n",
       "    .dataframe tbody tr th {\n",
       "        vertical-align: top;\n",
       "    }\n",
       "\n",
       "    .dataframe thead th {\n",
       "        text-align: right;\n",
       "    }\n",
       "</style>\n",
       "<table border=\"1\" class=\"dataframe\">\n",
       "  <thead>\n",
       "    <tr style=\"text-align: right;\">\n",
       "      <th></th>\n",
       "      <th>seqid</th>\n",
       "      <th>start</th>\n",
       "      <th>end</th>\n",
       "      <th>attributes</th>\n",
       "      <th>score</th>\n",
       "      <th>strand</th>\n",
       "      <th>mRNA_id</th>\n",
       "    </tr>\n",
       "  </thead>\n",
       "  <tbody>\n",
       "    <tr>\n",
       "      <th>2</th>\n",
       "      <td>chr1</td>\n",
       "      <td>34617</td>\n",
       "      <td>40204</td>\n",
       "      <td>ID=Zm00001eb000010_T001;Parent=Zm00001eb000010...</td>\n",
       "      <td>.</td>\n",
       "      <td>+</td>\n",
       "      <td>Zm00001eb000010_T001</td>\n",
       "    </tr>\n",
       "    <tr>\n",
       "      <th>24</th>\n",
       "      <td>chr1</td>\n",
       "      <td>41263</td>\n",
       "      <td>46050</td>\n",
       "      <td>ID=Zm00001eb000020_T002;Parent=Zm00001eb000020...</td>\n",
       "      <td>.</td>\n",
       "      <td>-</td>\n",
       "      <td>Zm00001eb000020_T002</td>\n",
       "    </tr>\n",
       "    <tr>\n",
       "      <th>43</th>\n",
       "      <td>chr1</td>\n",
       "      <td>41214</td>\n",
       "      <td>43902</td>\n",
       "      <td>ID=Zm00001eb000020_T004;Parent=Zm00001eb000020...</td>\n",
       "      <td>.</td>\n",
       "      <td>-</td>\n",
       "      <td>Zm00001eb000020_T004</td>\n",
       "    </tr>\n",
       "    <tr>\n",
       "      <th>62</th>\n",
       "      <td>chr1</td>\n",
       "      <td>41314</td>\n",
       "      <td>46039</td>\n",
       "      <td>ID=Zm00001eb000020_T003;Parent=Zm00001eb000020...</td>\n",
       "      <td>.</td>\n",
       "      <td>-</td>\n",
       "      <td>Zm00001eb000020_T003</td>\n",
       "    </tr>\n",
       "    <tr>\n",
       "      <th>85</th>\n",
       "      <td>chr1</td>\n",
       "      <td>41214</td>\n",
       "      <td>46762</td>\n",
       "      <td>ID=Zm00001eb000020_T001;Parent=Zm00001eb000020...</td>\n",
       "      <td>.</td>\n",
       "      <td>-</td>\n",
       "      <td>Zm00001eb000020_T001</td>\n",
       "    </tr>\n",
       "    <tr>\n",
       "      <th>...</th>\n",
       "      <td>...</td>\n",
       "      <td>...</td>\n",
       "      <td>...</td>\n",
       "      <td>...</td>\n",
       "      <td>...</td>\n",
       "      <td>...</td>\n",
       "      <td>...</td>\n",
       "    </tr>\n",
       "    <tr>\n",
       "      <th>1138073</th>\n",
       "      <td>chr10</td>\n",
       "      <td>152010430</td>\n",
       "      <td>152012584</td>\n",
       "      <td>ID=Zm00001eb434550_T001;Parent=Zm00001eb434550...</td>\n",
       "      <td>.</td>\n",
       "      <td>-</td>\n",
       "      <td>Zm00001eb434550_T001</td>\n",
       "    </tr>\n",
       "    <tr>\n",
       "      <th>1138079</th>\n",
       "      <td>chr10</td>\n",
       "      <td>152012893</td>\n",
       "      <td>152015823</td>\n",
       "      <td>ID=Zm00001eb434560_T001;Parent=Zm00001eb434560...</td>\n",
       "      <td>.</td>\n",
       "      <td>-</td>\n",
       "      <td>Zm00001eb434560_T001</td>\n",
       "    </tr>\n",
       "    <tr>\n",
       "      <th>1138095</th>\n",
       "      <td>chr10</td>\n",
       "      <td>152200925</td>\n",
       "      <td>152201511</td>\n",
       "      <td>ID=Zm00001eb434570_T001;Parent=Zm00001eb434570...</td>\n",
       "      <td>.</td>\n",
       "      <td>+</td>\n",
       "      <td>Zm00001eb434570_T001</td>\n",
       "    </tr>\n",
       "    <tr>\n",
       "      <th>1138101</th>\n",
       "      <td>chr10</td>\n",
       "      <td>152280251</td>\n",
       "      <td>152282615</td>\n",
       "      <td>ID=Zm00001eb434580_T001;Parent=Zm00001eb434580...</td>\n",
       "      <td>.</td>\n",
       "      <td>+</td>\n",
       "      <td>Zm00001eb434580_T001</td>\n",
       "    </tr>\n",
       "    <tr>\n",
       "      <th>1138109</th>\n",
       "      <td>chr10</td>\n",
       "      <td>152284763</td>\n",
       "      <td>152287382</td>\n",
       "      <td>ID=Zm00001eb434590_T001;Parent=Zm00001eb434590...</td>\n",
       "      <td>.</td>\n",
       "      <td>-</td>\n",
       "      <td>Zm00001eb434590_T001</td>\n",
       "    </tr>\n",
       "  </tbody>\n",
       "</table>\n",
       "<p>71791 rows × 7 columns</p>\n",
       "</div>"
      ],
      "text/plain": [
       "         seqid      start        end  \\\n",
       "2         chr1      34617      40204   \n",
       "24        chr1      41263      46050   \n",
       "43        chr1      41214      43902   \n",
       "62        chr1      41314      46039   \n",
       "85        chr1      41214      46762   \n",
       "...        ...        ...        ...   \n",
       "1138073  chr10  152010430  152012584   \n",
       "1138079  chr10  152012893  152015823   \n",
       "1138095  chr10  152200925  152201511   \n",
       "1138101  chr10  152280251  152282615   \n",
       "1138109  chr10  152284763  152287382   \n",
       "\n",
       "                                                attributes score strand  \\\n",
       "2        ID=Zm00001eb000010_T001;Parent=Zm00001eb000010...     .      +   \n",
       "24       ID=Zm00001eb000020_T002;Parent=Zm00001eb000020...     .      -   \n",
       "43       ID=Zm00001eb000020_T004;Parent=Zm00001eb000020...     .      -   \n",
       "62       ID=Zm00001eb000020_T003;Parent=Zm00001eb000020...     .      -   \n",
       "85       ID=Zm00001eb000020_T001;Parent=Zm00001eb000020...     .      -   \n",
       "...                                                    ...   ...    ...   \n",
       "1138073  ID=Zm00001eb434550_T001;Parent=Zm00001eb434550...     .      -   \n",
       "1138079  ID=Zm00001eb434560_T001;Parent=Zm00001eb434560...     .      -   \n",
       "1138095  ID=Zm00001eb434570_T001;Parent=Zm00001eb434570...     .      +   \n",
       "1138101  ID=Zm00001eb434580_T001;Parent=Zm00001eb434580...     .      +   \n",
       "1138109  ID=Zm00001eb434590_T001;Parent=Zm00001eb434590...     .      -   \n",
       "\n",
       "                      mRNA_id  \n",
       "2        Zm00001eb000010_T001  \n",
       "24       Zm00001eb000020_T002  \n",
       "43       Zm00001eb000020_T004  \n",
       "62       Zm00001eb000020_T003  \n",
       "85       Zm00001eb000020_T001  \n",
       "...                       ...  \n",
       "1138073  Zm00001eb434550_T001  \n",
       "1138079  Zm00001eb434560_T001  \n",
       "1138095  Zm00001eb434570_T001  \n",
       "1138101  Zm00001eb434580_T001  \n",
       "1138109  Zm00001eb434590_T001  \n",
       "\n",
       "[71791 rows x 7 columns]"
      ]
     },
     "execution_count": 16,
     "metadata": {},
     "output_type": "execute_result"
    }
   ],
   "source": [
    "mRNA_df['mRNA_id'] = mRNA_df['attributes'].str.split(';', expand=True)[0].str.split('=', expand=True)[1]\n",
    "#mRNA_df.loc[:, 'mRNA_id'] = mRNA_df['attributes'].str.split(';', expand=True)[0].str.split('=', expand=True)[1]\n",
    "mRNA_df"
   ]
  },
  {
   "cell_type": "markdown",
   "id": "2e03c595",
   "metadata": {},
   "source": [
    "rearrange the columns\n"
   ]
  },
  {
   "cell_type": "code",
   "execution_count": 17,
   "id": "1289a0f8",
   "metadata": {},
   "outputs": [
    {
     "data": {
      "text/html": [
       "<div>\n",
       "<style scoped>\n",
       "    .dataframe tbody tr th:only-of-type {\n",
       "        vertical-align: middle;\n",
       "    }\n",
       "\n",
       "    .dataframe tbody tr th {\n",
       "        vertical-align: top;\n",
       "    }\n",
       "\n",
       "    .dataframe thead th {\n",
       "        text-align: right;\n",
       "    }\n",
       "</style>\n",
       "<table border=\"1\" class=\"dataframe\">\n",
       "  <thead>\n",
       "    <tr style=\"text-align: right;\">\n",
       "      <th></th>\n",
       "      <th>seqid</th>\n",
       "      <th>start</th>\n",
       "      <th>end</th>\n",
       "      <th>mRNA_id</th>\n",
       "      <th>score</th>\n",
       "      <th>strand</th>\n",
       "    </tr>\n",
       "  </thead>\n",
       "  <tbody>\n",
       "    <tr>\n",
       "      <th>2</th>\n",
       "      <td>chr1</td>\n",
       "      <td>34617</td>\n",
       "      <td>40204</td>\n",
       "      <td>Zm00001eb000010_T001</td>\n",
       "      <td>.</td>\n",
       "      <td>+</td>\n",
       "    </tr>\n",
       "    <tr>\n",
       "      <th>24</th>\n",
       "      <td>chr1</td>\n",
       "      <td>41263</td>\n",
       "      <td>46050</td>\n",
       "      <td>Zm00001eb000020_T002</td>\n",
       "      <td>.</td>\n",
       "      <td>-</td>\n",
       "    </tr>\n",
       "    <tr>\n",
       "      <th>43</th>\n",
       "      <td>chr1</td>\n",
       "      <td>41214</td>\n",
       "      <td>43902</td>\n",
       "      <td>Zm00001eb000020_T004</td>\n",
       "      <td>.</td>\n",
       "      <td>-</td>\n",
       "    </tr>\n",
       "    <tr>\n",
       "      <th>62</th>\n",
       "      <td>chr1</td>\n",
       "      <td>41314</td>\n",
       "      <td>46039</td>\n",
       "      <td>Zm00001eb000020_T003</td>\n",
       "      <td>.</td>\n",
       "      <td>-</td>\n",
       "    </tr>\n",
       "    <tr>\n",
       "      <th>85</th>\n",
       "      <td>chr1</td>\n",
       "      <td>41214</td>\n",
       "      <td>46762</td>\n",
       "      <td>Zm00001eb000020_T001</td>\n",
       "      <td>.</td>\n",
       "      <td>-</td>\n",
       "    </tr>\n",
       "    <tr>\n",
       "      <th>...</th>\n",
       "      <td>...</td>\n",
       "      <td>...</td>\n",
       "      <td>...</td>\n",
       "      <td>...</td>\n",
       "      <td>...</td>\n",
       "      <td>...</td>\n",
       "    </tr>\n",
       "    <tr>\n",
       "      <th>1138073</th>\n",
       "      <td>chr10</td>\n",
       "      <td>152010430</td>\n",
       "      <td>152012584</td>\n",
       "      <td>Zm00001eb434550_T001</td>\n",
       "      <td>.</td>\n",
       "      <td>-</td>\n",
       "    </tr>\n",
       "    <tr>\n",
       "      <th>1138079</th>\n",
       "      <td>chr10</td>\n",
       "      <td>152012893</td>\n",
       "      <td>152015823</td>\n",
       "      <td>Zm00001eb434560_T001</td>\n",
       "      <td>.</td>\n",
       "      <td>-</td>\n",
       "    </tr>\n",
       "    <tr>\n",
       "      <th>1138095</th>\n",
       "      <td>chr10</td>\n",
       "      <td>152200925</td>\n",
       "      <td>152201511</td>\n",
       "      <td>Zm00001eb434570_T001</td>\n",
       "      <td>.</td>\n",
       "      <td>+</td>\n",
       "    </tr>\n",
       "    <tr>\n",
       "      <th>1138101</th>\n",
       "      <td>chr10</td>\n",
       "      <td>152280251</td>\n",
       "      <td>152282615</td>\n",
       "      <td>Zm00001eb434580_T001</td>\n",
       "      <td>.</td>\n",
       "      <td>+</td>\n",
       "    </tr>\n",
       "    <tr>\n",
       "      <th>1138109</th>\n",
       "      <td>chr10</td>\n",
       "      <td>152284763</td>\n",
       "      <td>152287382</td>\n",
       "      <td>Zm00001eb434590_T001</td>\n",
       "      <td>.</td>\n",
       "      <td>-</td>\n",
       "    </tr>\n",
       "  </tbody>\n",
       "</table>\n",
       "<p>71791 rows × 6 columns</p>\n",
       "</div>"
      ],
      "text/plain": [
       "         seqid      start        end               mRNA_id score strand\n",
       "2         chr1      34617      40204  Zm00001eb000010_T001     .      +\n",
       "24        chr1      41263      46050  Zm00001eb000020_T002     .      -\n",
       "43        chr1      41214      43902  Zm00001eb000020_T004     .      -\n",
       "62        chr1      41314      46039  Zm00001eb000020_T003     .      -\n",
       "85        chr1      41214      46762  Zm00001eb000020_T001     .      -\n",
       "...        ...        ...        ...                   ...   ...    ...\n",
       "1138073  chr10  152010430  152012584  Zm00001eb434550_T001     .      -\n",
       "1138079  chr10  152012893  152015823  Zm00001eb434560_T001     .      -\n",
       "1138095  chr10  152200925  152201511  Zm00001eb434570_T001     .      +\n",
       "1138101  chr10  152280251  152282615  Zm00001eb434580_T001     .      +\n",
       "1138109  chr10  152284763  152287382  Zm00001eb434590_T001     .      -\n",
       "\n",
       "[71791 rows x 6 columns]"
      ]
     },
     "execution_count": 17,
     "metadata": {},
     "output_type": "execute_result"
    }
   ],
   "source": [
    "mRNA_df = mRNA_df[['seqid', 'start', 'end', 'mRNA_id', 'score', 'strand']]\n",
    "mRNA_df"
   ]
  },
  {
   "cell_type": "markdown",
   "id": "c7e7e362",
   "metadata": {},
   "source": [
    "Now we will convert the start position to 0-based by subtracting 1 from the start position.\n"
   ]
  },
  {
   "cell_type": "code",
   "execution_count": 18,
   "id": "393a748f",
   "metadata": {},
   "outputs": [
    {
     "name": "stderr",
     "output_type": "stream",
     "text": [
      "/mnt/job-temp/arnstrm/5146429/ipykernel_842960/3365232138.py:1: SettingWithCopyWarning: \n",
      "A value is trying to be set on a copy of a slice from a DataFrame.\n",
      "Try using .loc[row_indexer,col_indexer] = value instead\n",
      "\n",
      "See the caveats in the documentation: https://pandas.pydata.org/pandas-docs/stable/user_guide/indexing.html#returning-a-view-versus-a-copy\n",
      "  mRNA_df['start'] = mRNA_df['start'] - 1\n"
     ]
    },
    {
     "data": {
      "text/html": [
       "<div>\n",
       "<style scoped>\n",
       "    .dataframe tbody tr th:only-of-type {\n",
       "        vertical-align: middle;\n",
       "    }\n",
       "\n",
       "    .dataframe tbody tr th {\n",
       "        vertical-align: top;\n",
       "    }\n",
       "\n",
       "    .dataframe thead th {\n",
       "        text-align: right;\n",
       "    }\n",
       "</style>\n",
       "<table border=\"1\" class=\"dataframe\">\n",
       "  <thead>\n",
       "    <tr style=\"text-align: right;\">\n",
       "      <th></th>\n",
       "      <th>seqid</th>\n",
       "      <th>start</th>\n",
       "      <th>end</th>\n",
       "      <th>mRNA_id</th>\n",
       "      <th>score</th>\n",
       "      <th>strand</th>\n",
       "    </tr>\n",
       "  </thead>\n",
       "  <tbody>\n",
       "    <tr>\n",
       "      <th>2</th>\n",
       "      <td>chr1</td>\n",
       "      <td>34616</td>\n",
       "      <td>40204</td>\n",
       "      <td>Zm00001eb000010_T001</td>\n",
       "      <td>.</td>\n",
       "      <td>+</td>\n",
       "    </tr>\n",
       "    <tr>\n",
       "      <th>24</th>\n",
       "      <td>chr1</td>\n",
       "      <td>41262</td>\n",
       "      <td>46050</td>\n",
       "      <td>Zm00001eb000020_T002</td>\n",
       "      <td>.</td>\n",
       "      <td>-</td>\n",
       "    </tr>\n",
       "    <tr>\n",
       "      <th>43</th>\n",
       "      <td>chr1</td>\n",
       "      <td>41213</td>\n",
       "      <td>43902</td>\n",
       "      <td>Zm00001eb000020_T004</td>\n",
       "      <td>.</td>\n",
       "      <td>-</td>\n",
       "    </tr>\n",
       "    <tr>\n",
       "      <th>62</th>\n",
       "      <td>chr1</td>\n",
       "      <td>41313</td>\n",
       "      <td>46039</td>\n",
       "      <td>Zm00001eb000020_T003</td>\n",
       "      <td>.</td>\n",
       "      <td>-</td>\n",
       "    </tr>\n",
       "    <tr>\n",
       "      <th>85</th>\n",
       "      <td>chr1</td>\n",
       "      <td>41213</td>\n",
       "      <td>46762</td>\n",
       "      <td>Zm00001eb000020_T001</td>\n",
       "      <td>.</td>\n",
       "      <td>-</td>\n",
       "    </tr>\n",
       "    <tr>\n",
       "      <th>...</th>\n",
       "      <td>...</td>\n",
       "      <td>...</td>\n",
       "      <td>...</td>\n",
       "      <td>...</td>\n",
       "      <td>...</td>\n",
       "      <td>...</td>\n",
       "    </tr>\n",
       "    <tr>\n",
       "      <th>1138073</th>\n",
       "      <td>chr10</td>\n",
       "      <td>152010429</td>\n",
       "      <td>152012584</td>\n",
       "      <td>Zm00001eb434550_T001</td>\n",
       "      <td>.</td>\n",
       "      <td>-</td>\n",
       "    </tr>\n",
       "    <tr>\n",
       "      <th>1138079</th>\n",
       "      <td>chr10</td>\n",
       "      <td>152012892</td>\n",
       "      <td>152015823</td>\n",
       "      <td>Zm00001eb434560_T001</td>\n",
       "      <td>.</td>\n",
       "      <td>-</td>\n",
       "    </tr>\n",
       "    <tr>\n",
       "      <th>1138095</th>\n",
       "      <td>chr10</td>\n",
       "      <td>152200924</td>\n",
       "      <td>152201511</td>\n",
       "      <td>Zm00001eb434570_T001</td>\n",
       "      <td>.</td>\n",
       "      <td>+</td>\n",
       "    </tr>\n",
       "    <tr>\n",
       "      <th>1138101</th>\n",
       "      <td>chr10</td>\n",
       "      <td>152280250</td>\n",
       "      <td>152282615</td>\n",
       "      <td>Zm00001eb434580_T001</td>\n",
       "      <td>.</td>\n",
       "      <td>+</td>\n",
       "    </tr>\n",
       "    <tr>\n",
       "      <th>1138109</th>\n",
       "      <td>chr10</td>\n",
       "      <td>152284762</td>\n",
       "      <td>152287382</td>\n",
       "      <td>Zm00001eb434590_T001</td>\n",
       "      <td>.</td>\n",
       "      <td>-</td>\n",
       "    </tr>\n",
       "  </tbody>\n",
       "</table>\n",
       "<p>71791 rows × 6 columns</p>\n",
       "</div>"
      ],
      "text/plain": [
       "         seqid      start        end               mRNA_id score strand\n",
       "2         chr1      34616      40204  Zm00001eb000010_T001     .      +\n",
       "24        chr1      41262      46050  Zm00001eb000020_T002     .      -\n",
       "43        chr1      41213      43902  Zm00001eb000020_T004     .      -\n",
       "62        chr1      41313      46039  Zm00001eb000020_T003     .      -\n",
       "85        chr1      41213      46762  Zm00001eb000020_T001     .      -\n",
       "...        ...        ...        ...                   ...   ...    ...\n",
       "1138073  chr10  152010429  152012584  Zm00001eb434550_T001     .      -\n",
       "1138079  chr10  152012892  152015823  Zm00001eb434560_T001     .      -\n",
       "1138095  chr10  152200924  152201511  Zm00001eb434570_T001     .      +\n",
       "1138101  chr10  152280250  152282615  Zm00001eb434580_T001     .      +\n",
       "1138109  chr10  152284762  152287382  Zm00001eb434590_T001     .      -\n",
       "\n",
       "[71791 rows x 6 columns]"
      ]
     },
     "execution_count": 18,
     "metadata": {},
     "output_type": "execute_result"
    }
   ],
   "source": [
    "mRNA_df['start'] = mRNA_df['start'] - 1\n",
    "mRNA_df"
   ]
  },
  {
   "cell_type": "markdown",
   "id": "cd477035",
   "metadata": {},
   "source": [
    "Finally, we will save the dataframe as a bed file.\n"
   ]
  },
  {
   "cell_type": "code",
   "execution_count": 19,
   "id": "dbcbe511",
   "metadata": {},
   "outputs": [],
   "source": [
    "mRNA_df.to_csv('B73v5_mRNA.bed', sep='\\t', index=False, header=False)"
   ]
  },
  {
   "cell_type": "markdown",
   "id": "d22138a5",
   "metadata": {},
   "source": [
    "Congratulations! You have successfully converted a GFF3 file to a BED file!\n"
   ]
  },
  {
   "cell_type": "markdown",
   "id": "3069e762",
   "metadata": {},
   "source": [
    "## 4. Summary Statistics\n",
    "\n",
    "Another interesting task is to calculate summary statistics of various features in your GFF3 file. We can calculate the length of each feature by subtracting the start position from the end position (since it is 0-based).\n"
   ]
  },
  {
   "cell_type": "code",
   "execution_count": 20,
   "id": "0a7e74ab",
   "metadata": {},
   "outputs": [
    {
     "name": "stderr",
     "output_type": "stream",
     "text": [
      "/mnt/job-temp/arnstrm/5146429/ipykernel_842960/3516859215.py:1: SettingWithCopyWarning: \n",
      "A value is trying to be set on a copy of a slice from a DataFrame.\n",
      "Try using .loc[row_indexer,col_indexer] = value instead\n",
      "\n",
      "See the caveats in the documentation: https://pandas.pydata.org/pandas-docs/stable/user_guide/indexing.html#returning-a-view-versus-a-copy\n",
      "  chr_gff3_df['feature_length'] = chr_gff3_df['end'] - chr_gff3_df['start']\n"
     ]
    }
   ],
   "source": [
    "chr_gff3_df['feature_length'] = chr_gff3_df['end'] - chr_gff3_df['start']\n",
    "# chr_gff3_df.loc[:, 'feature_length'] = chr_gff3_df['end'] - chr_gff3_df['start'] # better way"
   ]
  },
  {
   "cell_type": "markdown",
   "id": "6153778c",
   "metadata": {},
   "source": [
    "Total sum of gene feature lengths"
   ]
  },
  {
   "cell_type": "code",
   "execution_count": 21,
   "id": "b18407ec",
   "metadata": {},
   "outputs": [
    {
     "data": {
      "text/plain": [
       "176074616"
      ]
     },
     "execution_count": 21,
     "metadata": {},
     "output_type": "execute_result"
    }
   ],
   "source": [
    "chr_gff3_df[chr_gff3_df['type'] == 'gene']['feature_length'].sum()"
   ]
  },
  {
   "cell_type": "markdown",
   "id": "d9f10362",
   "metadata": {},
   "source": [
    "This is the total length of all the genes in the GFF3 file. For a genome of 2.4Gb, this is a very small fraction of the genome. \n",
    "\n",
    "\n",
    "Using the `groupby` method, we can calculate various summary statistics for each feature type.\n"
   ]
  },
  {
   "cell_type": "code",
   "execution_count": 22,
   "id": "2fd52197",
   "metadata": {},
   "outputs": [
    {
     "data": {
      "text/html": [
       "<div>\n",
       "<style scoped>\n",
       "    .dataframe tbody tr th:only-of-type {\n",
       "        vertical-align: middle;\n",
       "    }\n",
       "\n",
       "    .dataframe tbody tr th {\n",
       "        vertical-align: top;\n",
       "    }\n",
       "\n",
       "    .dataframe thead th {\n",
       "        text-align: right;\n",
       "    }\n",
       "</style>\n",
       "<table border=\"1\" class=\"dataframe\">\n",
       "  <thead>\n",
       "    <tr style=\"text-align: right;\">\n",
       "      <th></th>\n",
       "      <th>count</th>\n",
       "      <th>mean</th>\n",
       "      <th>median</th>\n",
       "      <th>min</th>\n",
       "      <th>max</th>\n",
       "      <th>std</th>\n",
       "    </tr>\n",
       "    <tr>\n",
       "      <th>type</th>\n",
       "      <th></th>\n",
       "      <th></th>\n",
       "      <th></th>\n",
       "      <th></th>\n",
       "      <th></th>\n",
       "      <th></th>\n",
       "    </tr>\n",
       "  </thead>\n",
       "  <tbody>\n",
       "    <tr>\n",
       "      <th>CDS</th>\n",
       "      <td>401806</td>\n",
       "      <td>2.156939e+02</td>\n",
       "      <td>121.0</td>\n",
       "      <td>0</td>\n",
       "      <td>9095</td>\n",
       "      <td>3.014736e+02</td>\n",
       "    </tr>\n",
       "    <tr>\n",
       "      <th>chromosome</th>\n",
       "      <td>10</td>\n",
       "      <td>2.131847e+08</td>\n",
       "      <td>206081181.5</td>\n",
       "      <td>152435370</td>\n",
       "      <td>308452470</td>\n",
       "      <td>4.841196e+07</td>\n",
       "    </tr>\n",
       "    <tr>\n",
       "      <th>exon</th>\n",
       "      <td>450442</td>\n",
       "      <td>2.899984e+02</td>\n",
       "      <td>147.0</td>\n",
       "      <td>0</td>\n",
       "      <td>10978</td>\n",
       "      <td>3.813191e+02</td>\n",
       "    </tr>\n",
       "    <tr>\n",
       "      <th>five_prime_UTR</th>\n",
       "      <td>93346</td>\n",
       "      <td>1.974762e+02</td>\n",
       "      <td>144.0</td>\n",
       "      <td>0</td>\n",
       "      <td>4010</td>\n",
       "      <td>2.005234e+02</td>\n",
       "    </tr>\n",
       "    <tr>\n",
       "      <th>gene</th>\n",
       "      <td>39035</td>\n",
       "      <td>4.510686e+03</td>\n",
       "      <td>2715.0</td>\n",
       "      <td>212</td>\n",
       "      <td>751400</td>\n",
       "      <td>8.883022e+03</td>\n",
       "    </tr>\n",
       "    <tr>\n",
       "      <th>mRNA</th>\n",
       "      <td>71791</td>\n",
       "      <td>5.404865e+03</td>\n",
       "      <td>3577.0</td>\n",
       "      <td>212</td>\n",
       "      <td>745091</td>\n",
       "      <td>8.351370e+03</td>\n",
       "    </tr>\n",
       "    <tr>\n",
       "      <th>three_prime_UTR</th>\n",
       "      <td>81688</td>\n",
       "      <td>3.109432e+02</td>\n",
       "      <td>273.0</td>\n",
       "      <td>0</td>\n",
       "      <td>4893</td>\n",
       "      <td>2.551815e+02</td>\n",
       "    </tr>\n",
       "  </tbody>\n",
       "</table>\n",
       "</div>"
      ],
      "text/plain": [
       "                  count          mean       median        min        max  \\\n",
       "type                                                                       \n",
       "CDS              401806  2.156939e+02        121.0          0       9095   \n",
       "chromosome           10  2.131847e+08  206081181.5  152435370  308452470   \n",
       "exon             450442  2.899984e+02        147.0          0      10978   \n",
       "five_prime_UTR    93346  1.974762e+02        144.0          0       4010   \n",
       "gene              39035  4.510686e+03       2715.0        212     751400   \n",
       "mRNA              71791  5.404865e+03       3577.0        212     745091   \n",
       "three_prime_UTR   81688  3.109432e+02        273.0          0       4893   \n",
       "\n",
       "                          std  \n",
       "type                           \n",
       "CDS              3.014736e+02  \n",
       "chromosome       4.841196e+07  \n",
       "exon             3.813191e+02  \n",
       "five_prime_UTR   2.005234e+02  \n",
       "gene             8.883022e+03  \n",
       "mRNA             8.351370e+03  \n",
       "three_prime_UTR  2.551815e+02  "
      ]
     },
     "execution_count": 22,
     "metadata": {},
     "output_type": "execute_result"
    }
   ],
   "source": [
    "chr_gff3_df.groupby('type')['feature_length'].agg(['count', 'mean', 'median', 'min', 'max', 'std'])"
   ]
  },
  {
   "cell_type": "markdown",
   "id": "f410de1f",
   "metadata": {},
   "source": [
    "\n",
    "change display options to show the values correctly"
   ]
  },
  {
   "cell_type": "code",
   "execution_count": 23,
   "id": "8e1e73d8",
   "metadata": {},
   "outputs": [],
   "source": [
    "pd.options.display.float_format = '{:,.2f}'.format"
   ]
  },
  {
   "cell_type": "code",
   "execution_count": 24,
   "id": "0ea126ff",
   "metadata": {},
   "outputs": [
    {
     "data": {
      "text/html": [
       "<div>\n",
       "<style scoped>\n",
       "    .dataframe tbody tr th:only-of-type {\n",
       "        vertical-align: middle;\n",
       "    }\n",
       "\n",
       "    .dataframe tbody tr th {\n",
       "        vertical-align: top;\n",
       "    }\n",
       "\n",
       "    .dataframe thead th {\n",
       "        text-align: right;\n",
       "    }\n",
       "</style>\n",
       "<table border=\"1\" class=\"dataframe\">\n",
       "  <thead>\n",
       "    <tr style=\"text-align: right;\">\n",
       "      <th></th>\n",
       "      <th>count</th>\n",
       "      <th>mean</th>\n",
       "      <th>median</th>\n",
       "      <th>min</th>\n",
       "      <th>max</th>\n",
       "      <th>std</th>\n",
       "    </tr>\n",
       "    <tr>\n",
       "      <th>type</th>\n",
       "      <th></th>\n",
       "      <th></th>\n",
       "      <th></th>\n",
       "      <th></th>\n",
       "      <th></th>\n",
       "      <th></th>\n",
       "    </tr>\n",
       "  </thead>\n",
       "  <tbody>\n",
       "    <tr>\n",
       "      <th>CDS</th>\n",
       "      <td>401806</td>\n",
       "      <td>215.69</td>\n",
       "      <td>121.00</td>\n",
       "      <td>0</td>\n",
       "      <td>9095</td>\n",
       "      <td>301.47</td>\n",
       "    </tr>\n",
       "    <tr>\n",
       "      <th>chromosome</th>\n",
       "      <td>10</td>\n",
       "      <td>213,184,679.50</td>\n",
       "      <td>206,081,181.50</td>\n",
       "      <td>152435370</td>\n",
       "      <td>308452470</td>\n",
       "      <td>48,411,960.37</td>\n",
       "    </tr>\n",
       "    <tr>\n",
       "      <th>exon</th>\n",
       "      <td>450442</td>\n",
       "      <td>290.00</td>\n",
       "      <td>147.00</td>\n",
       "      <td>0</td>\n",
       "      <td>10978</td>\n",
       "      <td>381.32</td>\n",
       "    </tr>\n",
       "    <tr>\n",
       "      <th>five_prime_UTR</th>\n",
       "      <td>93346</td>\n",
       "      <td>197.48</td>\n",
       "      <td>144.00</td>\n",
       "      <td>0</td>\n",
       "      <td>4010</td>\n",
       "      <td>200.52</td>\n",
       "    </tr>\n",
       "    <tr>\n",
       "      <th>gene</th>\n",
       "      <td>39035</td>\n",
       "      <td>4,510.69</td>\n",
       "      <td>2,715.00</td>\n",
       "      <td>212</td>\n",
       "      <td>751400</td>\n",
       "      <td>8,883.02</td>\n",
       "    </tr>\n",
       "    <tr>\n",
       "      <th>mRNA</th>\n",
       "      <td>71791</td>\n",
       "      <td>5,404.86</td>\n",
       "      <td>3,577.00</td>\n",
       "      <td>212</td>\n",
       "      <td>745091</td>\n",
       "      <td>8,351.37</td>\n",
       "    </tr>\n",
       "    <tr>\n",
       "      <th>three_prime_UTR</th>\n",
       "      <td>81688</td>\n",
       "      <td>310.94</td>\n",
       "      <td>273.00</td>\n",
       "      <td>0</td>\n",
       "      <td>4893</td>\n",
       "      <td>255.18</td>\n",
       "    </tr>\n",
       "  </tbody>\n",
       "</table>\n",
       "</div>"
      ],
      "text/plain": [
       "                  count           mean         median        min        max  \\\n",
       "type                                                                          \n",
       "CDS              401806         215.69         121.00          0       9095   \n",
       "chromosome           10 213,184,679.50 206,081,181.50  152435370  308452470   \n",
       "exon             450442         290.00         147.00          0      10978   \n",
       "five_prime_UTR    93346         197.48         144.00          0       4010   \n",
       "gene              39035       4,510.69       2,715.00        212     751400   \n",
       "mRNA              71791       5,404.86       3,577.00        212     745091   \n",
       "three_prime_UTR   81688         310.94         273.00          0       4893   \n",
       "\n",
       "                          std  \n",
       "type                           \n",
       "CDS                    301.47  \n",
       "chromosome      48,411,960.37  \n",
       "exon                   381.32  \n",
       "five_prime_UTR         200.52  \n",
       "gene                 8,883.02  \n",
       "mRNA                 8,351.37  \n",
       "three_prime_UTR        255.18  "
      ]
     },
     "execution_count": 24,
     "metadata": {},
     "output_type": "execute_result"
    }
   ],
   "source": [
    "chr_gff3_df.groupby('type')['feature_length'].agg(['count', 'mean', 'median', 'min', 'max', 'std'])"
   ]
  },
  {
   "cell_type": "markdown",
   "id": "5c5b1ba3",
   "metadata": {},
   "source": [
    "To save them as a csv file, we can use the `to_csv` method."
   ]
  },
  {
   "cell_type": "code",
   "execution_count": 25,
   "id": "d47d2159",
   "metadata": {},
   "outputs": [],
   "source": [
    "summary_stats = chr_gff3_df.groupby('type')['feature_length'].agg(['count', 'mean', 'median', 'min', 'max', 'std'])\n",
    "summary_stats.to_csv('summary_stats.csv')"
   ]
  },
  {
   "cell_type": "markdown",
   "id": "01bc6b1b",
   "metadata": {},
   "source": [
    "\n",
    "Also, if you want a specific feature stats, you can also do this:\n"
   ]
  },
  {
   "cell_type": "code",
   "execution_count": 26,
   "id": "b1871daa",
   "metadata": {},
   "outputs": [
    {
     "data": {
      "text/plain": [
       "count    39,035.00\n",
       "mean      4,510.69\n",
       "std       8,883.02\n",
       "min         212.00\n",
       "25%       1,239.00\n",
       "50%       2,715.00\n",
       "75%       5,059.00\n",
       "max     751,400.00\n",
       "Name: feature_length, dtype: float64"
      ]
     },
     "execution_count": 26,
     "metadata": {},
     "output_type": "execute_result"
    }
   ],
   "source": [
    "filter = chr_gff3_df['type'] == 'gene'\n",
    "gene_df = chr_gff3_df[filter]\n",
    "gene_df['feature_length'].describe()"
   ]
  },
  {
   "cell_type": "markdown",
   "id": "34f2bf73",
   "metadata": {},
   "source": [
    "This will give you the summary statistics for the gene features only.\n",
    "\n",
    "\n",
    "\n",
    "## 5. Visualizations\n",
    "\n",
    "\n",
    "Generating count plots is a great way to visualize the distribution of features in your GFF3 file. We can use the `seaborn` library to generate count plots.\n",
    "\n",
    "Some settings that can make the plot look good:"
   ]
  },
  {
   "cell_type": "code",
   "execution_count": 27,
   "id": "2997903b",
   "metadata": {},
   "outputs": [],
   "source": [
    "plt.rcParams['figure.dpi'] = 200\n",
    "plt.rcParams['figure.figsize'] = 10,4\n",
    "plt.rcParams.update({'font.size': 8})"
   ]
  },
  {
   "cell_type": "code",
   "execution_count": 28,
   "id": "243782d0",
   "metadata": {},
   "outputs": [
    {
     "data": {
      "image/png": "[encoded data removed]",
      "text/plain": [
       "<Figure size 2000x800 with 1 Axes>"
      ]
     },
     "metadata": {},
     "output_type": "display_data"
    }
   ],
   "source": [
    "sns.countplot(data=chr_gff3_df, x='type');"
   ]
  },
  {
   "cell_type": "markdown",
   "id": "8288d512",
   "metadata": {},
   "source": [
    "Maybe we should look at single feature across the `seqid`\n",
    "\n",
    "For `gene` features:\n",
    "\n"
   ]
  },
  {
   "cell_type": "code",
   "execution_count": 29,
   "id": "c7adad0a",
   "metadata": {},
   "outputs": [
    {
     "data": {
      "image/png": "[encoded data removed]",
      "text/plain": [
       "<Figure size 2000x800 with 1 Axes>"
      ]
     },
     "metadata": {},
     "output_type": "display_data"
    }
   ],
   "source": [
    "filter = chr_gff3_df['type'] == 'gene'\n",
    "sns.countplot(data=chr_gff3_df[filter], x='seqid');"
   ]
  },
  {
   "cell_type": "markdown",
   "id": "5ee0cd95",
   "metadata": {},
   "source": [
    "For `mRNA` features:"
   ]
  },
  {
   "cell_type": "code",
   "execution_count": 30,
   "id": "ed03b75d",
   "metadata": {},
   "outputs": [
    {
     "data": {
      "image/png": "[encoded data removed]",
      "text/plain": [
       "<Figure size 2000x800 with 1 Axes>"
      ]
     },
     "metadata": {},
     "output_type": "display_data"
    }
   ],
   "source": [
    "filter = chr_gff3_df['type'] == 'mRNA'\n",
    "sns.countplot(data=chr_gff3_df[filter], x='seqid');"
   ]
  },
  {
   "cell_type": "markdown",
   "id": "beed9a48",
   "metadata": {},
   "source": [
    "We also generate histograms to visualize the distribution of feature lengths.\n",
    "\n",
    "Let's check the `CDS` feature length distribution."
   ]
  },
  {
   "cell_type": "code",
   "execution_count": 31,
   "id": "64a19f70",
   "metadata": {},
   "outputs": [
    {
     "data": {
      "image/png": "[encoded data removed]",
      "text/plain": [
       "<Figure size 2000x800 with 1 Axes>"
      ]
     },
     "metadata": {},
     "output_type": "display_data"
    }
   ],
   "source": [
    "filter = chr_gff3_df['type'] == 'CDS'\n",
    "sns.histplot(data=chr_gff3_df[filter], x='feature_length', bins=50);"
   ]
  },
  {
   "cell_type": "markdown",
   "id": "a73dd74f",
   "metadata": {},
   "source": [
    "To make the distribution more interpretable, we can use a log scale on the x-axis.\n"
   ]
  },
  {
   "cell_type": "code",
   "execution_count": 32,
   "id": "74e888c2",
   "metadata": {},
   "outputs": [
    {
     "data": {
      "image/png": "[encoded data removed]",
      "text/plain": [
       "<Figure size 2000x800 with 1 Axes>"
      ]
     },
     "metadata": {},
     "output_type": "display_data"
    }
   ],
   "source": [
    "sns.histplot(data=chr_gff3_df[filter], x='feature_length', bins=50, log_scale=True);"
   ]
  },
  {
   "cell_type": "markdown",
   "id": "331335b5",
   "metadata": {},
   "source": [
    "you can adjust the bins for more granularity.\n"
   ]
  },
  {
   "cell_type": "code",
   "execution_count": 33,
   "id": "6d8d222e",
   "metadata": {},
   "outputs": [
    {
     "data": {
      "image/png": "[encoded data removed]",
      "text/plain": [
       "<Figure size 2000x800 with 1 Axes>"
      ]
     },
     "metadata": {},
     "output_type": "display_data"
    }
   ],
   "source": [
    "sns.histplot(data=chr_gff3_df[filter], x='feature_length', bins=200, log_scale=True);"
   ]
  },
  {
   "cell_type": "markdown",
   "id": "0efbd4ac",
   "metadata": {},
   "source": [
    "or can also be plotted as a kernel density estimate plot."
   ]
  },
  {
   "cell_type": "code",
   "execution_count": 34,
   "id": "0ee9137d",
   "metadata": {},
   "outputs": [
    {
     "data": {
      "image/png": "[encoded data removed]",
      "text/plain": [
       "<Figure size 2000x800 with 1 Axes>"
      ]
     },
     "metadata": {},
     "output_type": "display_data"
    }
   ],
   "source": [
    "sns.histplot(data=chr_gff3_df[filter], x='feature_length', bins=200, kde=True);"
   ]
  },
  {
   "cell_type": "markdown",
   "id": "5555019f",
   "metadata": {},
   "source": [
    "Similarly, you can generate histograms for other features as well.\n",
    "\n",
    "For `gene` features:\n"
   ]
  },
  {
   "cell_type": "code",
   "execution_count": 35,
   "id": "56d33bd5",
   "metadata": {},
   "outputs": [
    {
     "data": {
      "image/png": "[encoded data removed]",
      "text/plain": [
       "<Figure size 2000x800 with 1 Axes>"
      ]
     },
     "metadata": {},
     "output_type": "display_data"
    }
   ],
   "source": [
    "filter = chr_gff3_df['type'] == 'gene'\n",
    "sns.histplot(data=chr_gff3_df[filter], x='feature_length', bins=150, log_scale=True);"
   ]
  },
  {
   "cell_type": "markdown",
   "id": "df317035",
   "metadata": {},
   "source": [
    "To save plots, you can either use the `%%` magic command in Jupyter notebook or use the `savefig` method.\n"
   ]
  },
  {
   "cell_type": "code",
   "execution_count": 36,
   "id": "3da651d9",
   "metadata": {},
   "outputs": [
    {
     "data": {
      "text/plain": [
       "<Axes: xlabel='feature_length', ylabel='Count'>"
      ]
     },
     "execution_count": 36,
     "metadata": {},
     "output_type": "execute_result"
    },
    {
     "data": {
      "image/png": "[encoded data removed]",
      "text/plain": [
       "<Figure size 2000x800 with 1 Axes>"
      ]
     },
     "metadata": {},
     "output_type": "display_data"
    }
   ],
   "source": [
    "%%capture --no-display fig.png\n",
    "sns.histplot(data=chr_gff3_df[filter], x='feature_length', bins=150, log_scale=True);"
   ]
  },
  {
   "cell_type": "markdown",
   "id": "fa81b8f0",
   "metadata": {},
   "source": [
    "or"
   ]
  },
  {
   "cell_type": "code",
   "execution_count": 37,
   "id": "a790867f",
   "metadata": {},
   "outputs": [
    {
     "data": {
      "image/png": "[encoded data removed]",
      "text/plain": [
       "<Figure size 2000x800 with 1 Axes>"
      ]
     },
     "metadata": {},
     "output_type": "display_data"
    }
   ],
   "source": [
    "sns.histplot(data=chr_gff3_df[filter], x='feature_length', bins=50, log_scale=True)\n",
    "plt.savefig('gene_feature_length_distribution.png');"
   ]
  },
  {
   "cell_type": "markdown",
   "id": "5ca0e1a1",
   "metadata": {},
   "source": [
    "## 6. Advanced filtering\n",
    "\n",
    "Suppose you want to subset your GFF3 file to retain only primary transcripts. You can use the `attributes` column to filter the dataframe.\n"
   ]
  },
  {
   "cell_type": "code",
   "execution_count": 38,
   "id": "be139300",
   "metadata": {},
   "outputs": [
    {
     "data": {
      "text/html": [
       "<div>\n",
       "<style scoped>\n",
       "    .dataframe tbody tr th:only-of-type {\n",
       "        vertical-align: middle;\n",
       "    }\n",
       "\n",
       "    .dataframe tbody tr th {\n",
       "        vertical-align: top;\n",
       "    }\n",
       "\n",
       "    .dataframe thead th {\n",
       "        text-align: right;\n",
       "    }\n",
       "</style>\n",
       "<table border=\"1\" class=\"dataframe\">\n",
       "  <thead>\n",
       "    <tr style=\"text-align: right;\">\n",
       "      <th></th>\n",
       "      <th>seqid</th>\n",
       "      <th>source</th>\n",
       "      <th>type</th>\n",
       "      <th>start</th>\n",
       "      <th>end</th>\n",
       "      <th>score</th>\n",
       "      <th>strand</th>\n",
       "      <th>phase</th>\n",
       "      <th>attributes</th>\n",
       "      <th>feature_length</th>\n",
       "    </tr>\n",
       "  </thead>\n",
       "  <tbody>\n",
       "    <tr>\n",
       "      <th>2</th>\n",
       "      <td>chr1</td>\n",
       "      <td>NAM</td>\n",
       "      <td>mRNA</td>\n",
       "      <td>34617</td>\n",
       "      <td>40204</td>\n",
       "      <td>.</td>\n",
       "      <td>+</td>\n",
       "      <td>.</td>\n",
       "      <td>ID=Zm00001eb000010_T001;Parent=Zm00001eb000010...</td>\n",
       "      <td>5587</td>\n",
       "    </tr>\n",
       "    <tr>\n",
       "      <th>85</th>\n",
       "      <td>chr1</td>\n",
       "      <td>NAM</td>\n",
       "      <td>mRNA</td>\n",
       "      <td>41214</td>\n",
       "      <td>46762</td>\n",
       "      <td>.</td>\n",
       "      <td>-</td>\n",
       "      <td>.</td>\n",
       "      <td>ID=Zm00001eb000020_T001;Parent=Zm00001eb000020...</td>\n",
       "      <td>5548</td>\n",
       "    </tr>\n",
       "    <tr>\n",
       "      <th>107</th>\n",
       "      <td>chr1</td>\n",
       "      <td>NAM</td>\n",
       "      <td>mRNA</td>\n",
       "      <td>108554</td>\n",
       "      <td>114382</td>\n",
       "      <td>.</td>\n",
       "      <td>-</td>\n",
       "      <td>.</td>\n",
       "      <td>ID=Zm00001eb000050_T001;Parent=Zm00001eb000050...</td>\n",
       "      <td>5828</td>\n",
       "    </tr>\n",
       "    <tr>\n",
       "      <th>124</th>\n",
       "      <td>chr1</td>\n",
       "      <td>NAM</td>\n",
       "      <td>mRNA</td>\n",
       "      <td>188559</td>\n",
       "      <td>189581</td>\n",
       "      <td>.</td>\n",
       "      <td>-</td>\n",
       "      <td>.</td>\n",
       "      <td>ID=Zm00001eb000060_T001;Parent=Zm00001eb000060...</td>\n",
       "      <td>1022</td>\n",
       "    </tr>\n",
       "    <tr>\n",
       "      <th>132</th>\n",
       "      <td>chr1</td>\n",
       "      <td>NAM</td>\n",
       "      <td>mRNA</td>\n",
       "      <td>190192</td>\n",
       "      <td>198832</td>\n",
       "      <td>.</td>\n",
       "      <td>-</td>\n",
       "      <td>.</td>\n",
       "      <td>ID=Zm00001eb000070_T001;Parent=Zm00001eb000070...</td>\n",
       "      <td>8640</td>\n",
       "    </tr>\n",
       "    <tr>\n",
       "      <th>...</th>\n",
       "      <td>...</td>\n",
       "      <td>...</td>\n",
       "      <td>...</td>\n",
       "      <td>...</td>\n",
       "      <td>...</td>\n",
       "      <td>...</td>\n",
       "      <td>...</td>\n",
       "      <td>...</td>\n",
       "      <td>...</td>\n",
       "      <td>...</td>\n",
       "    </tr>\n",
       "    <tr>\n",
       "      <th>1138073</th>\n",
       "      <td>chr10</td>\n",
       "      <td>NAM</td>\n",
       "      <td>mRNA</td>\n",
       "      <td>152010430</td>\n",
       "      <td>152012584</td>\n",
       "      <td>.</td>\n",
       "      <td>-</td>\n",
       "      <td>.</td>\n",
       "      <td>ID=Zm00001eb434550_T001;Parent=Zm00001eb434550...</td>\n",
       "      <td>2154</td>\n",
       "    </tr>\n",
       "    <tr>\n",
       "      <th>1138079</th>\n",
       "      <td>chr10</td>\n",
       "      <td>NAM</td>\n",
       "      <td>mRNA</td>\n",
       "      <td>152012893</td>\n",
       "      <td>152015823</td>\n",
       "      <td>.</td>\n",
       "      <td>-</td>\n",
       "      <td>.</td>\n",
       "      <td>ID=Zm00001eb434560_T001;Parent=Zm00001eb434560...</td>\n",
       "      <td>2930</td>\n",
       "    </tr>\n",
       "    <tr>\n",
       "      <th>1138095</th>\n",
       "      <td>chr10</td>\n",
       "      <td>NAM</td>\n",
       "      <td>mRNA</td>\n",
       "      <td>152200925</td>\n",
       "      <td>152201511</td>\n",
       "      <td>.</td>\n",
       "      <td>+</td>\n",
       "      <td>.</td>\n",
       "      <td>ID=Zm00001eb434570_T001;Parent=Zm00001eb434570...</td>\n",
       "      <td>586</td>\n",
       "    </tr>\n",
       "    <tr>\n",
       "      <th>1138101</th>\n",
       "      <td>chr10</td>\n",
       "      <td>NAM</td>\n",
       "      <td>mRNA</td>\n",
       "      <td>152280251</td>\n",
       "      <td>152282615</td>\n",
       "      <td>.</td>\n",
       "      <td>+</td>\n",
       "      <td>.</td>\n",
       "      <td>ID=Zm00001eb434580_T001;Parent=Zm00001eb434580...</td>\n",
       "      <td>2364</td>\n",
       "    </tr>\n",
       "    <tr>\n",
       "      <th>1138109</th>\n",
       "      <td>chr10</td>\n",
       "      <td>NAM</td>\n",
       "      <td>mRNA</td>\n",
       "      <td>152284763</td>\n",
       "      <td>152287382</td>\n",
       "      <td>.</td>\n",
       "      <td>-</td>\n",
       "      <td>.</td>\n",
       "      <td>ID=Zm00001eb434590_T001;Parent=Zm00001eb434590...</td>\n",
       "      <td>2619</td>\n",
       "    </tr>\n",
       "  </tbody>\n",
       "</table>\n",
       "<p>39035 rows × 10 columns</p>\n",
       "</div>"
      ],
      "text/plain": [
       "         seqid source  type      start        end score strand phase  \\\n",
       "2         chr1    NAM  mRNA      34617      40204     .      +     .   \n",
       "85        chr1    NAM  mRNA      41214      46762     .      -     .   \n",
       "107       chr1    NAM  mRNA     108554     114382     .      -     .   \n",
       "124       chr1    NAM  mRNA     188559     189581     .      -     .   \n",
       "132       chr1    NAM  mRNA     190192     198832     .      -     .   \n",
       "...        ...    ...   ...        ...        ...   ...    ...   ...   \n",
       "1138073  chr10    NAM  mRNA  152010430  152012584     .      -     .   \n",
       "1138079  chr10    NAM  mRNA  152012893  152015823     .      -     .   \n",
       "1138095  chr10    NAM  mRNA  152200925  152201511     .      +     .   \n",
       "1138101  chr10    NAM  mRNA  152280251  152282615     .      +     .   \n",
       "1138109  chr10    NAM  mRNA  152284763  152287382     .      -     .   \n",
       "\n",
       "                                                attributes  feature_length  \n",
       "2        ID=Zm00001eb000010_T001;Parent=Zm00001eb000010...            5587  \n",
       "85       ID=Zm00001eb000020_T001;Parent=Zm00001eb000020...            5548  \n",
       "107      ID=Zm00001eb000050_T001;Parent=Zm00001eb000050...            5828  \n",
       "124      ID=Zm00001eb000060_T001;Parent=Zm00001eb000060...            1022  \n",
       "132      ID=Zm00001eb000070_T001;Parent=Zm00001eb000070...            8640  \n",
       "...                                                    ...             ...  \n",
       "1138073  ID=Zm00001eb434550_T001;Parent=Zm00001eb434550...            2154  \n",
       "1138079  ID=Zm00001eb434560_T001;Parent=Zm00001eb434560...            2930  \n",
       "1138095  ID=Zm00001eb434570_T001;Parent=Zm00001eb434570...             586  \n",
       "1138101  ID=Zm00001eb434580_T001;Parent=Zm00001eb434580...            2364  \n",
       "1138109  ID=Zm00001eb434590_T001;Parent=Zm00001eb434590...            2619  \n",
       "\n",
       "[39035 rows x 10 columns]"
      ]
     },
     "execution_count": 38,
     "metadata": {},
     "output_type": "execute_result"
    }
   ],
   "source": [
    "filter = chr_gff3_df['attributes'].str.contains('canonical_transcript')\n",
    "chr_gff3_df[filter]"
   ]
  },
  {
   "cell_type": "markdown",
   "id": "1dafb2d7",
   "metadata": {},
   "source": [
    "As you see, this will only fetch you `mRNA` features but not its child features like `CDS` or `exon`. If you want to fetch all the child features of the primary transcript, you can use the `mRNA_id` column to filter the dataframe."
   ]
  },
  {
   "cell_type": "code",
   "execution_count": 39,
   "id": "70c40139",
   "metadata": {},
   "outputs": [],
   "source": [
    "mRNA_id = chr_gff3_df[filter]['attributes'].str.split(';', expand=True)[0].str.split('=', expand=True)[1]"
   ]
  },
  {
   "cell_type": "markdown",
   "id": "f7e6880e",
   "metadata": {},
   "source": [
    "This list of ids are the primary transcripts. You can use this list to filter the dataframe."
   ]
  },
  {
   "cell_type": "code",
   "execution_count": 40,
   "id": "3d2ce139",
   "metadata": {},
   "outputs": [],
   "source": [
    "import re\n",
    "# create a pattern to search for the IDs\n",
    "pattern = re.compile('|'.join(mRNA_id))\n",
    "# Define a function to check if a given attribute contains any of the IDs\n",
    "def contains_id(attribute):\n",
    "    return bool(pattern.search(attribute))\n",
    "# Apply the function to each row in the DataFrame\n",
    "primary_gff3_df = chr_gff3_df[chr_gff3_df['attributes'].apply(contains_id)]"
   ]
  },
  {
   "cell_type": "markdown",
   "id": "3a649348",
   "metadata": {},
   "source": [
    "## 7. Iterating over the dataframe\n",
    "\n",
    "If you want to iterate over the dataframe, you can use the `iterrows` method.\n"
   ]
  },
  {
   "cell_type": "markdown",
   "id": "6832fc47",
   "metadata": {},
   "source": [
    "This is useful when you want to perform some operation on each row of the dataframe.\n"
   ]
  },
  {
   "cell_type": "markdown",
   "id": "86523115",
   "metadata": {},
   "source": [
    "Let's take just 250 lines for showing this example"
   ]
  },
  {
   "cell_type": "code",
   "execution_count": 41,
   "id": "8f8aecac",
   "metadata": {},
   "outputs": [],
   "source": [
    "chr_gff3_test = chr_gff3_df.head(250)"
   ]
  },
  {
   "cell_type": "markdown",
   "id": "3118f9af",
   "metadata": {},
   "source": [
    "iterate over each lines in gff3, select only \"mRNA\" entries, and print selective fields in preferred format:"
   ]
  },
  {
   "cell_type": "code",
   "execution_count": 42,
   "id": "10a346eb",
   "metadata": {},
   "outputs": [
    {
     "name": "stdout",
     "output_type": "stream",
     "text": [
      "chr1:34617-40204\n",
      "chr1:41263-46050\n",
      "chr1:41214-43902\n",
      "chr1:41314-46039\n",
      "chr1:41214-46762\n",
      "chr1:108554-114382\n",
      "chr1:188559-189581\n",
      "chr1:190192-198832\n",
      "chr1:200262-203393\n",
      "chr1:206619-209723\n",
      "chr1:246422-247242\n",
      "chr1:315219-315846\n",
      "chr1:325307-326897\n",
      "chr1:328087-328525\n",
      "chr1:550834-564766\n",
      "chr1:551305-564761\n"
     ]
    }
   ],
   "source": [
    "for index, row in chr_gff3_test.iterrows():\n",
    "    if row['type'] == 'mRNA':\n",
    "        position = f\"{row['seqid']}:{row['start']}-{row['end']}\"\n",
    "        print(position)"
   ]
  },
  {
   "cell_type": "markdown",
   "id": "e0591efd",
   "metadata": {},
   "source": [
    "iterate over each lines in gff3, select only \"gene\" entries, and print selective fields in preferred format:"
   ]
  },
  {
   "cell_type": "code",
   "execution_count": 43,
   "id": "af40fd5c",
   "metadata": {},
   "outputs": [
    {
     "name": "stdout",
     "output_type": "stream",
     "text": [
      "chr1 gene 34617 40204\n",
      "chr1 gene 41214 46762\n",
      "chr1 gene 108554 114382\n",
      "chr1 gene 188559 189581\n",
      "chr1 gene 190192 198832\n",
      "chr1 gene 200262 203393\n",
      "chr1 gene 206619 209723\n",
      "chr1 gene 246422 247242\n",
      "chr1 gene 315219 315846\n",
      "chr1 gene 325307 326897\n",
      "chr1 gene 328087 328525\n",
      "chr1 gene 550834 564766\n"
     ]
    }
   ],
   "source": [
    "for index, row in chr_gff3_test.iterrows():\n",
    "    if row['type'] == 'gene':\n",
    "        print(row['seqid'], row['type'], row['start'], row['end'])"
   ]
  },
  {
   "cell_type": "markdown",
   "id": "ce725155",
   "metadata": {},
   "source": [
    "This will print the genomic coordinates of all the genes in the GFF3 file.\n",
    "\n",
    "The above filtering can also be done using `iterrows` method."
   ]
  },
  {
   "cell_type": "code",
   "execution_count": 44,
   "id": "0f6b3878",
   "metadata": {
    "scrolled": false
   },
   "outputs": [
    {
     "name": "stdout",
     "output_type": "stream",
     "text": [
      "Zm00001eb000010_T001\n",
      "Zm00001eb000020_T001\n",
      "Zm00001eb000050_T001\n",
      "Zm00001eb000060_T001\n",
      "Zm00001eb000070_T001\n",
      "Zm00001eb000080_T001\n",
      "Zm00001eb000100_T001\n",
      "Zm00001eb000110_T001\n",
      "Zm00001eb000120_T001\n",
      "Zm00001eb000140_T001\n",
      "Zm00001eb000150_T001\n",
      "Zm00001eb000170_T004\n"
     ]
    }
   ],
   "source": [
    "for index, row in chr_gff3_test.iterrows():\n",
    "    if 'canonical_transcript' in row['attributes']:\n",
    "        mRNAid = row['attributes'].split(';')[0].split('=')[1]\n",
    "        print(mRNAid)"
   ]
  },
  {
   "cell_type": "markdown",
   "id": "11e21065",
   "metadata": {},
   "source": [
    "This will print the genomic coordinates of all the primary transcripts in the GFF3 file."
   ]
  },
  {
   "cell_type": "markdown",
   "id": "6e21a672",
   "metadata": {},
   "source": [
    "## Conclusion\n",
    "\n",
    "In this short exercise, we learned how to read a GFF3 file using `pandas`, filter the data, convert the format, calculate summary statistics, and visualize the data. These are some of the common tasks you might encounter while working with GFF3 files.\n",
    "\n",
    "`pandas` makes working with non-standardized file formats like GFF3 easy and efficient. It provides a powerful set of tools to manipulate and analyze the data."
   ]
  }
 ],
 "metadata": {
  "kernelspec": {
   "display_name": "Python3 (BCB/EEOB 546)",
   "language": "python",
   "name": "notebook"
  },
  "language_info": {
   "codemirror_mode": {
    "name": "ipython",
    "version": 3
   },
   "file_extension": ".py",
   "mimetype": "text/x-python",
   "name": "python",
   "nbconvert_exporter": "python",
   "pygments_lexer": "ipython3",
   "version": "3.12.2"
  }
 },
 "nbformat": 4,
 "nbformat_minor": 5
}
