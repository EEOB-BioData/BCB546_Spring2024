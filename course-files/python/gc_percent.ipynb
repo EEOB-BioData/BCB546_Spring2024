{
 "cells": [
  {
   "cell_type": "markdown",
   "id": "4921316c",
   "metadata": {},
   "source": [
    "# GC percent for a DNA string"
   ]
  },
  {
   "cell_type": "markdown",
   "id": "57906f94",
   "metadata": {},
   "source": [
    "function to calculate GC percent"
   ]
  },
  {
   "cell_type": "markdown",
   "id": "f3443fe1",
   "metadata": {},
   "source": [
    "Sample DNA string"
   ]
  },
  {
   "cell_type": "code",
   "execution_count": 1,
   "id": "76d9cb64",
   "metadata": {},
   "outputs": [],
   "source": [
    "my_dna = \"AATCGACAATAGCCCATTGATACAT\""
   ]
  },
  {
   "cell_type": "code",
   "execution_count": 2,
   "id": "5e78c538",
   "metadata": {},
   "outputs": [
    {
     "name": "stdout",
     "output_type": "stream",
     "text": [
      "AATCGACAATAGCCCATTGATACAT\n"
     ]
    }
   ],
   "source": [
    "print(my_dna)"
   ]
  },
  {
   "cell_type": "markdown",
   "id": "c5b9fb32",
   "metadata": {},
   "source": [
    "## Functiion"
   ]
  },
  {
   "cell_type": "code",
   "execution_count": 3,
   "id": "02020c71",
   "metadata": {},
   "outputs": [],
   "source": [
    "def gc_percent(dna):\n",
    "    \"\"\"Description: Computes GC % for a given DNA string\n",
    "    \n",
    "    Arguments: \n",
    "       dna  :  DNA string\n",
    "    \n",
    "    Return: a float value \n",
    "    \n",
    "    Example of usage:\n",
    "       >>> gc = gc_percent(dna = \"AATCGACAATAGCCCATTGATACAT\")\n",
    "       >>> print(gc)\n",
    "       \n",
    "       Output:\n",
    "          0.56\n",
    "    \n",
    "    \"\"\"\n",
    "    count_G = dna.count('G')\n",
    "    count_C = dna.count('C')\n",
    "    dna_len = len(dna)\n",
    "    gc = ((count_G + count_C) / dna_len)\n",
    "    gc_pc = gc * 100\n",
    "#   much simpler:\n",
    "#   gc_pc = (dna.count('G') + dna.count('C') ) * 100 / len(dna)\n",
    "    return(gc_pc)"
   ]
  },
  {
   "cell_type": "code",
   "execution_count": 4,
   "id": "221d9316",
   "metadata": {},
   "outputs": [
    {
     "data": {
      "text/plain": [
       "36.0"
      ]
     },
     "execution_count": 4,
     "metadata": {},
     "output_type": "execute_result"
    }
   ],
   "source": [
    "gc_percent(dna = my_dna)"
   ]
  },
  {
   "cell_type": "markdown",
   "id": "79912f2b",
   "metadata": {},
   "source": [
    "But what if there are letters in uppper/lower case?"
   ]
  },
  {
   "cell_type": "code",
   "execution_count": 5,
   "id": "25330ef0",
   "metadata": {
    "scrolled": false
   },
   "outputs": [],
   "source": [
    "my_dna = my_dna.upper()"
   ]
  },
  {
   "cell_type": "markdown",
   "id": "8468c572",
   "metadata": {},
   "source": [
    "converting the string to a single case will fix the issue. \n",
    "\n",
    "But if there are non ATGC in the DNA, it will not give you correct GC content or raise any error"
   ]
  },
  {
   "cell_type": "markdown",
   "id": "393eac8a",
   "metadata": {},
   "source": [
    "We can write another function to check if the DNA is valid"
   ]
  },
  {
   "cell_type": "code",
   "execution_count": 6,
   "id": "95b7c53a",
   "metadata": {},
   "outputs": [],
   "source": [
    "def has_invalid_letters(sequence):\n",
    "    \"\"\"Description: checks if the DNA string is valid\n",
    "    \n",
    "    Arguments: \n",
    "        sequence  :  DNA string\n",
    "    \n",
    "    Return: boolean \n",
    "    \n",
    "    Example of usage:\n",
    "       >>> has_invalid_letters(sequence = \"AATCGACAATAGCCCATTGATACAT\")\n",
    "       \n",
    "       Output:\n",
    "          False\n",
    "    \n",
    "    \"\"\"\n",
    "    \n",
    "    pattern = re.compile(r'[^ATGCatgc]')\n",
    "    if re.search(pattern, sequence):\n",
    "        return True\n",
    "    else:\n",
    "        return False"
   ]
  },
  {
   "cell_type": "markdown",
   "id": "e0433ea1",
   "metadata": {},
   "source": [
    "now we can use this function within our `gc_percent` function to check if the DNA string is valid"
   ]
  },
  {
   "cell_type": "code",
   "execution_count": 7,
   "id": "dc92f3cb",
   "metadata": {},
   "outputs": [],
   "source": [
    "import re\n",
    "import sys\n",
    "def gc_percent(dna):\n",
    "    \"\"\"Description: Computes GC % for a given DNA string\n",
    "    \n",
    "    Arguments: \n",
    "       dna  :  DNA string\n",
    "    \n",
    "    Return: a float value \n",
    "    \n",
    "    Example of usage:\n",
    "       >>> gc = gc_percent(dna = \"AATCGACAATAGCCCATTGATACAT\")\n",
    "       >>> print(gc)\n",
    "       \n",
    "       Output:\n",
    "          0.56\n",
    "    \n",
    "    \"\"\"\n",
    "    dna = dna.upper()\n",
    "    if has_invalid_letters(dna):\n",
    "        print(\"Sequence contains invalid letters.\")\n",
    "    else:\n",
    "        print(\"Sequence contains only valid letters.\")\n",
    "        gc_pc = (dna.count('G') + dna.count('C') ) * 100 / len(dna)\n",
    "        return(gc_pc)"
   ]
  },
  {
   "cell_type": "code",
   "execution_count": 8,
   "id": "13e77ee2",
   "metadata": {
    "scrolled": true
   },
   "outputs": [
    {
     "name": "stdout",
     "output_type": "stream",
     "text": [
      "Sequence contains only valid letters.\n"
     ]
    },
    {
     "data": {
      "text/plain": [
       "36.0"
      ]
     },
     "execution_count": 8,
     "metadata": {},
     "output_type": "execute_result"
    }
   ],
   "source": [
    "gc_percent(dna = my_dna)"
   ]
  },
  {
   "cell_type": "code",
   "execution_count": 9,
   "id": "fe1e4e8f",
   "metadata": {},
   "outputs": [
    {
     "name": "stdout",
     "output_type": "stream",
     "text": [
      "Sequence contains invalid letters.\n"
     ]
    }
   ],
   "source": [
    "gc_percent(dna = \"NOTADNASEQUENCE\")"
   ]
  }
 ],
 "metadata": {
  "kernelspec": {
   "display_name": "Python3 (BCB/EEOB 546)",
   "language": "python",
   "name": "notebook"
  },
  "language_info": {
   "codemirror_mode": {
    "name": "ipython",
    "version": 3
   },
   "file_extension": ".py",
   "mimetype": "text/x-python",
   "name": "python",
   "nbconvert_exporter": "python",
   "pygments_lexer": "ipython3",
   "version": "3.12.2"
  }
 },
 "nbformat": 4,
 "nbformat_minor": 5
}
