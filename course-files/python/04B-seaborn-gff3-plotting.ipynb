{
 "cells": [
  {
   "cell_type": "markdown",
   "id": "7cb909b9",
   "metadata": {},
   "source": [
    "# Before you begin\n",
    "\n",
    "## Update your course repository\n",
    "\n",
    "You need to clone the course repository to Nova. You probably already have cloned this, so you can skip this step.\n",
    "\n",
    "```bash\n",
    "git clone git@github.com:EEOB-BioData/BCB546_Spring2024.git\n",
    "```\n",
    "\n",
    "You will still need to pull new changes to this repository at the beginning of class. This will enable you to access new data files and scripts needed for in-class activities.\n",
    "\n",
    "```bash\n",
    "cd BCB546_Spring2024\n",
    "git pull\n",
    "```\n",
    "\n",
    "Note that if you have modified any files in the repository, you will need to commit those changes before you can pull new changes. If you don't care about the changes, just delete and re-clone the repository.\n",
    "\n",
    "## Start Jupyter notebook on Nova on demand.\n",
    "\n",
    "You can start Jupyter notebook on Nova on demand. This will allow you to run Jupyter notebook on the server and access it from your local machine.\n",
    "\n",
    "1. Go to the [Nova OnDemand](https://nova-ondemand.its.iastate.edu/) and login\n",
    "2. Under the \"Interactive Apps\" tab, click on \"Jupyter Notebook\", request desired resources and click \"Launch\"\n",
    "3. Wait for the job to start and click on the \"Connect to Jupyter\" button\n",
    "\n",
    "\n",
    "\n",
    "# Getting Started\n",
    "\n",
    "To begin, we need to import the necessary libraries.\n"
   ]
  },
  {
   "cell_type": "code",
   "execution_count": 1,
   "id": "f72fe725",
   "metadata": {},
   "outputs": [],
   "source": [
    "import pandas as pd\n",
    "import matplotlib.pyplot as plt\n",
    "import seaborn as sns"
   ]
  },
  {
   "cell_type": "markdown",
   "id": "322b9153",
   "metadata": {},
   "source": [
    "##  Pandas working with GFF3 file (SKIP)\n",
    "\n",
    "GFF3 (General Feature Format version 3) is a standard file format for describing genes, transcripts, and other features in a genome. Pandas is a powerful data manipulation library in Python. In this tutorial, we'll explore how to use pandas to read and manipulate data from a GFF3 file.### Read GFF3 file (skip this step)\n",
    "\n",
    "For this excercise We will download annotations for severla maize genomes and compare them."
   ]
  },
  {
   "cell_type": "code",
   "execution_count": 2,
   "id": "6a65c6db",
   "metadata": {},
   "outputs": [
    {
     "name": "stdout",
     "output_type": "stream",
     "text": [
      "--2024-04-10 11:33:09--  https://download.maizegdb.org/Zm-B73-REFERENCE-NAM-5.0/Zm-B73-REFERENCE-NAM-5.0_Zm00001eb.1.gff3.gz\n",
      "Resolving download.maizegdb.org (download.maizegdb.org)... 104.26.11.112, 172.67.74.80, 104.26.10.112, ...\n",
      "Connecting to download.maizegdb.org (download.maizegdb.org)|104.26.11.112|:443... connected.\n",
      "HTTP request sent, awaiting response... 200 OK\n",
      "Length: 12251264 (12M) [application/x-gzip]\n",
      "Saving to: ‘Zm-B73-REFERENCE-NAM-5.0_Zm00001eb.1.gff3.gz’\n",
      "\n",
      "Zm-B73-REFERENCE-NA 100%[===================>]  11.68M  30.0MB/s    in 0.4s    \n",
      "\n",
      "2024-04-10 11:33:10 (30.0 MB/s) - ‘Zm-B73-REFERENCE-NAM-5.0_Zm00001eb.1.gff3.gz’ saved [12251264/12251264]\n",
      "\n",
      "--2024-04-10 11:33:10--  https://download.maizegdb.org/Zm-B97-REFERENCE-NAM-1.0/Zm-B97-REFERENCE-NAM-1.0_Zm00018ab.1.gff3.gz\n",
      "Resolving download.maizegdb.org (download.maizegdb.org)... 104.26.10.112, 172.67.74.80, 104.26.11.112, ...\n",
      "Connecting to download.maizegdb.org (download.maizegdb.org)|104.26.10.112|:443... connected.\n",
      "HTTP request sent, awaiting response... 200 OK\n",
      "Length: 12035979 (11M) [application/x-gzip]\n",
      "Saving to: ‘Zm-B97-REFERENCE-NAM-1.0_Zm00018ab.1.gff3.gz’\n",
      "\n",
      "Zm-B97-REFERENCE-NA 100%[===================>]  11.48M  38.0MB/s    in 0.3s    \n",
      "\n",
      "2024-04-10 11:33:10 (38.0 MB/s) - ‘Zm-B97-REFERENCE-NAM-1.0_Zm00018ab.1.gff3.gz’ saved [12035979/12035979]\n",
      "\n",
      "--2024-04-10 11:33:11--  https://download.maizegdb.org/Zm-CML52-REFERENCE-NAM-1.0/Zm-CML52-REFERENCE-NAM-1.0_Zm00019ab.1.gff3.gz\n",
      "Resolving download.maizegdb.org (download.maizegdb.org)... 104.26.11.112, 104.26.10.112, 172.67.74.80, ...\n",
      "Connecting to download.maizegdb.org (download.maizegdb.org)|104.26.11.112|:443... connected.\n",
      "HTTP request sent, awaiting response... 200 OK\n",
      "Length: 11953808 (11M) [application/x-gzip]\n",
      "Saving to: ‘Zm-CML52-REFERENCE-NAM-1.0_Zm00019ab.1.gff3.gz’\n",
      "\n",
      "Zm-CML52-REFERENCE- 100%[===================>]  11.40M  29.9MB/s    in 0.4s    \n",
      "\n",
      "2024-04-10 11:33:11 (29.9 MB/s) - ‘Zm-CML52-REFERENCE-NAM-1.0_Zm00019ab.1.gff3.gz’ saved [11953808/11953808]\n",
      "\n",
      "--2024-04-10 11:33:11--  https://download.maizegdb.org/Zm-CML322-REFERENCE-NAM-1.0/Zm-CML322-REFERENCE-NAM-1.0_Zm00025ab.1.gff3.gz\n",
      "Resolving download.maizegdb.org (download.maizegdb.org)... 172.67.74.80, 104.26.11.112, 104.26.10.112, ...\n",
      "Connecting to download.maizegdb.org (download.maizegdb.org)|172.67.74.80|:443... connected.\n",
      "HTTP request sent, awaiting response... 200 OK\n",
      "Length: 12006155 (11M) [application/x-gzip]\n",
      "Saving to: ‘Zm-CML322-REFERENCE-NAM-1.0_Zm00025ab.1.gff3.gz’\n",
      "\n",
      "Zm-CML322-REFERENCE 100%[===================>]  11.45M  33.3MB/s    in 0.3s    \n",
      "\n",
      "2024-04-10 11:33:12 (33.3 MB/s) - ‘Zm-CML322-REFERENCE-NAM-1.0_Zm00025ab.1.gff3.gz’ saved [12006155/12006155]\n",
      "\n",
      "--2024-04-10 11:33:12--  https://download.maizegdb.org/Zm-CML333-REFERENCE-NAM-1.0/Zm-CML333-REFERENCE-NAM-1.0_Zm00026ab.1.gff3.gz\n",
      "Resolving download.maizegdb.org (download.maizegdb.org)... 104.26.10.112, 172.67.74.80, 104.26.11.112, ...\n",
      "Connecting to download.maizegdb.org (download.maizegdb.org)|104.26.10.112|:443... connected.\n",
      "HTTP request sent, awaiting response... 200 OK\n",
      "Length: 11920718 (11M) [application/x-gzip]\n",
      "Saving to: ‘Zm-CML333-REFERENCE-NAM-1.0_Zm00026ab.1.gff3.gz’\n",
      "\n",
      "Zm-CML333-REFERENCE 100%[===================>]  11.37M  34.6MB/s    in 0.3s    \n",
      "\n",
      "2024-04-10 11:33:13 (34.6 MB/s) - ‘Zm-CML333-REFERENCE-NAM-1.0_Zm00026ab.1.gff3.gz’ saved [11920718/11920718]\n",
      "\n",
      "--2024-04-10 11:33:13--  https://download.maizegdb.org/Zm-HP301-REFERENCE-NAM-1.0/Zm-HP301-REFERENCE-NAM-1.0_Zm00027ab.1.gff3.gz\n",
      "Resolving download.maizegdb.org (download.maizegdb.org)... 104.26.11.112, 104.26.10.112, 172.67.74.80, ...\n",
      "Connecting to download.maizegdb.org (download.maizegdb.org)|104.26.11.112|:443... connected.\n",
      "HTTP request sent, awaiting response... 200 OK\n",
      "Length: 11950075 (11M) [application/x-gzip]\n",
      "Saving to: ‘Zm-HP301-REFERENCE-NAM-1.0_Zm00027ab.1.gff3.gz’\n",
      "\n",
      "Zm-HP301-REFERENCE- 100%[===================>]  11.40M  41.8MB/s    in 0.3s    \n",
      "\n",
      "2024-04-10 11:33:14 (41.8 MB/s) - ‘Zm-HP301-REFERENCE-NAM-1.0_Zm00027ab.1.gff3.gz’ saved [11950075/11950075]\n",
      "\n",
      "--2024-04-10 11:33:14--  https://download.maizegdb.org/Zm-M37W-REFERENCE-NAM-1.0/Zm-M37W-REFERENCE-NAM-1.0_Zm00032ab.1.gff3.gz\n",
      "Resolving download.maizegdb.org (download.maizegdb.org)... 172.67.74.80, 104.26.11.112, 104.26.10.112, ...\n",
      "Connecting to download.maizegdb.org (download.maizegdb.org)|172.67.74.80|:443... connected.\n",
      "HTTP request sent, awaiting response... 200 OK\n",
      "Length: 12129290 (12M) [application/x-gzip]\n",
      "Saving to: ‘Zm-M37W-REFERENCE-NAM-1.0_Zm00032ab.1.gff3.gz’\n",
      "\n",
      "Zm-M37W-REFERENCE-N 100%[===================>]  11.57M  24.8MB/s    in 0.5s    \n",
      "\n",
      "2024-04-10 11:33:15 (24.8 MB/s) - ‘Zm-M37W-REFERENCE-NAM-1.0_Zm00032ab.1.gff3.gz’ saved [12129290/12129290]\n",
      "\n",
      "--2024-04-10 11:33:15--  https://download.maizegdb.org/Zm-NC350-REFERENCE-NAM-1.0/Zm-NC350-REFERENCE-NAM-1.0_Zm00036ab.1.gff3.gz\n",
      "Resolving download.maizegdb.org (download.maizegdb.org)... 104.26.10.112, 172.67.74.80, 104.26.11.112, ...\n",
      "Connecting to download.maizegdb.org (download.maizegdb.org)|104.26.10.112|:443... connected.\n",
      "HTTP request sent, awaiting response... 200 OK\n",
      "Length: 12074661 (12M) [application/x-gzip]\n",
      "Saving to: ‘Zm-NC350-REFERENCE-NAM-1.0_Zm00036ab.1.gff3.gz’\n",
      "\n",
      "Zm-NC350-REFERENCE- 100%[===================>]  11.51M  35.0MB/s    in 0.3s    \n",
      "\n",
      "2024-04-10 11:33:16 (35.0 MB/s) - ‘Zm-NC350-REFERENCE-NAM-1.0_Zm00036ab.1.gff3.gz’ saved [12074661/12074661]\n",
      "\n",
      "--2024-04-10 11:33:16--  https://download.maizegdb.org/Zm-Oh43-REFERENCE-NAM-1.0/Zm-Oh43-REFERENCE-NAM-1.0_Zm00039ab.1.gff3.gz\n",
      "Resolving download.maizegdb.org (download.maizegdb.org)... 104.26.11.112, 104.26.10.112, 172.67.74.80, ...\n",
      "Connecting to download.maizegdb.org (download.maizegdb.org)|104.26.11.112|:443... connected.\n",
      "HTTP request sent, awaiting response... 200 OK\n",
      "Length: 12028787 (11M) [application/x-gzip]\n",
      "Saving to: ‘Zm-Oh43-REFERENCE-NAM-1.0_Zm00039ab.1.gff3.gz’\n",
      "\n",
      "Zm-Oh43-REFERENCE-N 100%[===================>]  11.47M  37.0MB/s    in 0.3s    \n",
      "\n",
      "2024-04-10 11:33:16 (37.0 MB/s) - ‘Zm-Oh43-REFERENCE-NAM-1.0_Zm00039ab.1.gff3.gz’ saved [12028787/12028787]\n",
      "\n",
      "--2024-04-10 11:33:17--  https://download.maizegdb.org/Zm-P39-REFERENCE-NAM-1.0/Zm-P39-REFERENCE-NAM-1.0_Zm00040ab.1.gff3.gz\n",
      "Resolving download.maizegdb.org (download.maizegdb.org)... 172.67.74.80, 104.26.11.112, 104.26.10.112, ...\n",
      "Connecting to download.maizegdb.org (download.maizegdb.org)|172.67.74.80|:443... connected.\n",
      "HTTP request sent, awaiting response... 200 OK\n",
      "Length: 12164007 (12M) [application/x-gzip]\n",
      "Saving to: ‘Zm-P39-REFERENCE-NAM-1.0_Zm00040ab.1.gff3.gz’\n",
      "\n",
      "Zm-P39-REFERENCE-NA 100%[===================>]  11.60M  31.6MB/s    in 0.4s    \n",
      "\n",
      "2024-04-10 11:33:17 (31.6 MB/s) - ‘Zm-P39-REFERENCE-NAM-1.0_Zm00040ab.1.gff3.gz’ saved [12164007/12164007]\n",
      "\n",
      "--2024-04-10 11:33:17--  https://download.maizegdb.org/Zm-Tzi8-REFERENCE-NAM-1.0/Zm-Tzi8-REFERENCE-NAM-1.0_Zm00042ab.1.gff3.gz\n",
      "Resolving download.maizegdb.org (download.maizegdb.org)... 104.26.10.112, 172.67.74.80, 104.26.11.112, ...\n",
      "Connecting to download.maizegdb.org (download.maizegdb.org)|104.26.10.112|:443... connected.\n",
      "HTTP request sent, awaiting response... 200 OK\n",
      "Length: 12362215 (12M) [application/x-gzip]\n",
      "Saving to: ‘Zm-Tzi8-REFERENCE-NAM-1.0_Zm00042ab.1.gff3.gz’\n",
      "\n",
      "Zm-Tzi8-REFERENCE-N 100%[===================>]  11.79M  36.6MB/s    in 0.3s    \n",
      "\n",
      "2024-04-10 11:33:18 (36.6 MB/s) - ‘Zm-Tzi8-REFERENCE-NAM-1.0_Zm00042ab.1.gff3.gz’ saved [12362215/12362215]\n",
      "\n"
     ]
    }
   ],
   "source": [
    "## in bash (note the exclamation point in front of standard commands)\n",
    "!wget https://download.maizegdb.org/Zm-B73-REFERENCE-NAM-5.0/Zm-B73-REFERENCE-NAM-5.0_Zm00001eb.1.gff3.gz\n",
    "!wget https://download.maizegdb.org/Zm-B97-REFERENCE-NAM-1.0/Zm-B97-REFERENCE-NAM-1.0_Zm00018ab.1.gff3.gz\n",
    "!wget https://download.maizegdb.org/Zm-CML52-REFERENCE-NAM-1.0/Zm-CML52-REFERENCE-NAM-1.0_Zm00019ab.1.gff3.gz\n",
    "!wget https://download.maizegdb.org/Zm-CML322-REFERENCE-NAM-1.0/Zm-CML322-REFERENCE-NAM-1.0_Zm00025ab.1.gff3.gz\n",
    "!wget https://download.maizegdb.org/Zm-CML333-REFERENCE-NAM-1.0/Zm-CML333-REFERENCE-NAM-1.0_Zm00026ab.1.gff3.gz\n",
    "!wget https://download.maizegdb.org/Zm-HP301-REFERENCE-NAM-1.0/Zm-HP301-REFERENCE-NAM-1.0_Zm00027ab.1.gff3.gz\n",
    "!wget https://download.maizegdb.org/Zm-M37W-REFERENCE-NAM-1.0/Zm-M37W-REFERENCE-NAM-1.0_Zm00032ab.1.gff3.gz\n",
    "!wget https://download.maizegdb.org/Zm-NC350-REFERENCE-NAM-1.0/Zm-NC350-REFERENCE-NAM-1.0_Zm00036ab.1.gff3.gz\n",
    "!wget https://download.maizegdb.org/Zm-Oh43-REFERENCE-NAM-1.0/Zm-Oh43-REFERENCE-NAM-1.0_Zm00039ab.1.gff3.gz\n",
    "!wget https://download.maizegdb.org/Zm-P39-REFERENCE-NAM-1.0/Zm-P39-REFERENCE-NAM-1.0_Zm00040ab.1.gff3.gz\n",
    "!wget https://download.maizegdb.org/Zm-Tzi8-REFERENCE-NAM-1.0/Zm-Tzi8-REFERENCE-NAM-1.0_Zm00042ab.1.gff3.gz\n",
    "!gunzip Zm-B73-REFERENCE-NAM-5.0_Zm00001eb.1.gff3.gz\n",
    "!gunzip Zm-B97-REFERENCE-NAM-1.0_Zm00018ab.1.gff3.gz\n",
    "!gunzip Zm-CML52-REFERENCE-NAM-1.0_Zm00019ab.1.gff3.gz\n",
    "!gunzip Zm-CML322-REFERENCE-NAM-1.0_Zm00025ab.1.gff3.gz\n",
    "!gunzip Zm-CML333-REFERENCE-NAM-1.0_Zm00026ab.1.gff3.gz\n",
    "!gunzip Zm-HP301-REFERENCE-NAM-1.0_Zm00027ab.1.gff3.gz\n",
    "!gunzip Zm-M37W-REFERENCE-NAM-1.0_Zm00032ab.1.gff3.gz\n",
    "!gunzip Zm-NC350-REFERENCE-NAM-1.0_Zm00036ab.1.gff3.gz\n",
    "!gunzip Zm-Oh43-REFERENCE-NAM-1.0_Zm00039ab.1.gff3.gz\n",
    "!gunzip Zm-P39-REFERENCE-NAM-1.0_Zm00040ab.1.gff3.gz\n",
    "!gunzip Zm-Tzi8-REFERENCE-NAM-1.0_Zm00042ab.1.gff3.gz"
   ]
  },
  {
   "cell_type": "markdown",
   "id": "1e11cdbb",
   "metadata": {},
   "source": [
    "## A function to import GFF3 files and compute length metrics (SKIP)"
   ]
  },
  {
   "cell_type": "code",
   "execution_count": 3,
   "id": "dc6dbdaf",
   "metadata": {},
   "outputs": [],
   "source": [
    "import pandas as pd\n",
    "\n",
    "def read_gff3(file='Zm-B73-REFERENCE-NAM-5.0_Zm00001eb.1.gff3', name='B73'):\n",
    "    \"\"\"\n",
    "    Read a GFF3 file and extract information about mRNA sequences marked as canonical transcripts.\n",
    "\n",
    "    Parameters:\n",
    "        file (str): Path to the GFF3 file to read.\n",
    "        name (str): Name of the organism or reference genome.\n",
    "\n",
    "    Returns:\n",
    "        pandas.DataFrame: DataFrame containing mRNA IDs, lengths, and organism names.\n",
    "    \"\"\"\n",
    "    # Define column names for the GFF3 file\n",
    "    columns = ['seqid', 'source', 'type', 'start', 'end', 'score', 'strand', 'phase', 'attributes']\n",
    "    # Read the GFF3 file into a DataFrame\n",
    "    df = pd.read_csv(file, sep='\\t', comment='#', header=None, names=columns)\n",
    "    # Filter rows to extract only mRNA sequences marked as canonical transcripts\n",
    "    filter_condition = (df['type'] == 'mRNA') & (df['attributes'].str.contains('canonical_transcript=1'))\n",
    "    df = df[filter_condition]\n",
    "    # Calculate mRNA lengths\n",
    "    df['length'] = df['end'] - df['start'] + 1\n",
    "    # Extract mRNA IDs from attributes\n",
    "    df['mRNA'] = df['attributes'].str.extract(r'ID=(.*?);')\n",
    "    # Add organism or reference genome name\n",
    "    df['name'] = name\n",
    "    # Select relevant columns\n",
    "    df = df[['mRNA', 'length', 'name']]\n",
    "    # return the results\n",
    "    return df\n"
   ]
  },
  {
   "cell_type": "code",
   "execution_count": null,
   "id": "c8905f7a",
   "metadata": {},
   "outputs": [],
   "source": [
    "# The files we need to process\n",
    "\n",
    "files = {'B73' : 'Zm-B73-REFERENCE-NAM-5.0_Zm00001eb.1.gff3', \n",
    "         'B97' : 'Zm-B97-REFERENCE-NAM-1.0_Zm00018ab.1.gff3',\n",
    "         'CML52': 'Zm-CML52-REFERENCE-NAM-1.0_Zm00019ab.1.gff3',\n",
    "         'CML322': 'Zm-CML322-REFERENCE-NAM-1.0_Zm00025ab.1.gff3',\n",
    "         'CML333': 'Zm-CML333-REFERENCE-NAM-1.0_Zm00026ab.1.gff3',\n",
    "         'HP301': 'Zm-HP301-REFERENCE-NAM-1.0_Zm00027ab.1.gff3',\n",
    "         'M37W': 'Zm-M37W-REFERENCE-NAM-1.0_Zm00032ab.1.gff3',\n",
    "         'NC350': 'Zm-NC350-REFERENCE-NAM-1.0_Zm00036ab.1.gff3',\n",
    "         'Oh43': 'Zm-Oh43-REFERENCE-NAM-1.0_Zm00039ab.1.gff3',\n",
    "         'P39': 'Zm-P39-REFERENCE-NAM-1.0_Zm00040ab.1.gff3',\n",
    "         'Tzi8': 'Zm-Tzi8-REFERENCE-NAM-1.0_Zm00042ab.1.gff3'}\n",
    "\n",
    "# lets run the function for each file and concatenate the results\n",
    "\n",
    "dfs = []\n",
    "for name, file in files.items():\n",
    "    df = read_gff3(file, name)\n",
    "    dfs.append(df)\n",
    "df = pd.concat(dfs)\n",
    "\n",
    "# let's save this as a CSV file\n",
    "df.to_csv('maize_mRNA.csv', index=False)"
   ]
  },
  {
   "cell_type": "markdown",
   "id": "2b45d282",
   "metadata": {},
   "source": [
    "## read the df of mRNA length"
   ]
  },
  {
   "cell_type": "code",
   "execution_count": null,
   "id": "03bac31a",
   "metadata": {},
   "outputs": [],
   "source": [
    "df.to_csv('maize_mRNA.csv', index=False)\n",
    "df = pd.read_csv('maize_mRNA.csv')"
   ]
  },
  {
   "cell_type": "markdown",
   "id": "0544575b",
   "metadata": {},
   "source": [
    "Settings for changing the default figure size and resolution"
   ]
  },
  {
   "cell_type": "code",
   "execution_count": null,
   "id": "04617fb2",
   "metadata": {},
   "outputs": [],
   "source": [
    "plt.rcParams['figure.figsize'] = [12, 5]\n",
    "plt.rcParams['figure.dpi'] = 300"
   ]
  },
  {
   "cell_type": "markdown",
   "id": "c692888e",
   "metadata": {},
   "source": [
    "First, let's look at the number of genes/mRNAs per maize line"
   ]
  },
  {
   "cell_type": "code",
   "execution_count": null,
   "id": "babaee1e",
   "metadata": {},
   "outputs": [],
   "source": [
    "sns.countplot(data= df, x='name', stat='count')"
   ]
  },
  {
   "cell_type": "markdown",
   "id": "5bb909db",
   "metadata": {},
   "source": [
    "We can color them based on maize line"
   ]
  },
  {
   "cell_type": "code",
   "execution_count": null,
   "id": "d78b7254",
   "metadata": {},
   "outputs": [],
   "source": [
    "sns.countplot(data= df, x='name', stat='count', hue='name')"
   ]
  },
  {
   "cell_type": "markdown",
   "id": "89526c9e",
   "metadata": {},
   "source": [
    "`sns.boxplot` is a seaborn function used to draw a box plot to visually represent the distribution of data within categories. It displays the distribution of quantitative data across several levels of one or more categorical variables. The box plot summarizes the central tendency, spread, and shape of the dataset's distribution, making it useful for comparing distributions and identifying outliers within different groups."
   ]
  },
  {
   "cell_type": "code",
   "execution_count": null,
   "id": "d81d384f",
   "metadata": {
    "scrolled": true
   },
   "outputs": [],
   "source": [
    "sns.boxplot(data=df, x='name', y='length')"
   ]
  },
  {
   "cell_type": "markdown",
   "id": "094ef32b",
   "metadata": {},
   "source": [
    "In our case, log sacle makes a better choice to visualize boxplot"
   ]
  },
  {
   "cell_type": "code",
   "execution_count": null,
   "id": "87472a1b",
   "metadata": {
    "scrolled": true
   },
   "outputs": [],
   "source": [
    "sns.boxplot(data=df, x='name', y='length', hue = 'name')\n",
    "plt.yscale('log')\n",
    "plt.show()"
   ]
  },
  {
   "cell_type": "markdown",
   "id": "85e69dba",
   "metadata": {},
   "source": [
    "Instead, it can also be visualized as violin plot"
   ]
  },
  {
   "cell_type": "markdown",
   "id": "55cff89e",
   "metadata": {},
   "source": [
    "`sns.violinplot` is a seaborn plot that combines a box plot with a kernel density estimation to provide insights into the distribution and density of a continuous variable across different categories."
   ]
  },
  {
   "cell_type": "code",
   "execution_count": null,
   "id": "862ebe16",
   "metadata": {
    "scrolled": false
   },
   "outputs": [],
   "source": [
    "sns.violinplot(data=df, x='name', y='length', hue = 'name')\n"
   ]
  },
  {
   "cell_type": "markdown",
   "id": "1005a949",
   "metadata": {},
   "source": [
    "Some options might make this appealing"
   ]
  },
  {
   "cell_type": "code",
   "execution_count": null,
   "id": "f9b81b1b",
   "metadata": {},
   "outputs": [],
   "source": [
    "sns.violinplot(data=df, x='name', y='length', hue = 'name', cut=0, linewidth=0.5)"
   ]
  },
  {
   "cell_type": "markdown",
   "id": "0e79cc1e",
   "metadata": {},
   "source": [
    "`sns.stripplot` can visualize the distribution of data points for a continuous variable within categories. It displays individual data points as strips along a categorical axis, making it useful for understanding the distribution of values within each category and identifying potential outliers or patterns. `stripplot` is particularly effective when dealing with relatively small datasets or when you want to show the raw data points along with their distribution."
   ]
  },
  {
   "cell_type": "code",
   "execution_count": null,
   "id": "fce31780",
   "metadata": {
    "scrolled": false
   },
   "outputs": [],
   "source": [
    "sns.stripplot(data=df, x=\"name\", y=\"length\", hue=\"name\")"
   ]
  },
  {
   "cell_type": "markdown",
   "id": "e5bc073d",
   "metadata": {},
   "source": [
    "adjust dot transperncey:"
   ]
  },
  {
   "cell_type": "code",
   "execution_count": null,
   "id": "788cd412",
   "metadata": {
    "scrolled": false
   },
   "outputs": [],
   "source": [
    "sns.stripplot(\n",
    "    data=df, x=\"name\", y=\"length\", hue=\"name\",\n",
    "    alpha=.25, legend=False\n",
    ")"
   ]
  },
  {
   "cell_type": "markdown",
   "id": "85c360aa",
   "metadata": {},
   "source": [
    "Instead of all points, you can also plot specific stat, eg: conditional means, using `sns.pointplot`, aligning each pointplot in the center of the strips by adjusting the width allotted to each category (.8 by default) by the number of hue levels"
   ]
  },
  {
   "cell_type": "code",
   "execution_count": null,
   "id": "208dd4e5",
   "metadata": {
    "scrolled": false
   },
   "outputs": [],
   "source": [
    "sns.pointplot(\n",
    "    data=df, x=\"name\", y=\"length\", hue=\"name\",\n",
    "    dodge=.8 - .8 / 3, palette=\"dark\", errorbar=None,\n",
    "    markers=\"d\", markersize=4, linestyle=\"none\",\n",
    ")"
   ]
  },
  {
   "cell_type": "markdown",
   "id": "5f09fbad",
   "metadata": {},
   "source": [
    "## Plotting large distributions\n",
    "\n",
    "`sns.boxenplot` is a type of seaborn plot used for visualizing the distribution of a continuous variable across different categories. It is an enhanced version of the box plot, also known as a \"letter-value plot\" or a \"raincloud plot\", which provides additional quantiles to better represent the shape of the distribution, particularly for larger datasets with more complex distributions. This plot is useful for identifying variations and outliers within each category and comparing distributions between categories."
   ]
  },
  {
   "cell_type": "code",
   "execution_count": null,
   "id": "da5b213c",
   "metadata": {},
   "outputs": [],
   "source": [
    "sns.boxenplot(\n",
    "    data=df, x=\"name\", y=\"length\", hue=\"name\",\n",
    "    palette='dark:b', width_method=\"linear\",\n",
    ")"
   ]
  }
 ],
 "metadata": {
  "kernelspec": {
   "display_name": "Python3 (BCB/EEOB 546)",
   "language": "python",
   "name": "notebook"
  },
  "language_info": {
   "codemirror_mode": {
    "name": "ipython",
    "version": 3
   },
   "file_extension": ".py",
   "mimetype": "text/x-python",
   "name": "python",
   "nbconvert_exporter": "python",
   "pygments_lexer": "ipython3",
   "version": "3.12.2"
  }
 },
 "nbformat": 4,
 "nbformat_minor": 5
}
